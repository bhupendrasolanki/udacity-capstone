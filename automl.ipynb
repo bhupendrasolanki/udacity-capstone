{
  "cells": [
    {
      "cell_type": "markdown",
      "source": [
        "# Automated ML\n",
        "\n",
        "TODO: Import Dependencies. In the cell below, import all the dependencies that you will need to complete the project."
      ],
      "metadata": {}
    },
    {
      "cell_type": "code",
      "source": [
        "from azureml.core import Workspace, Experiment\n",
        "from azureml.core.compute import ComputeTarget, AmlCompute\n",
        "from azureml.widgets import RunDetails\n",
        "import os\n",
        "import joblib\n",
        "\n",
        "from azureml.train.automl import AutoMLConfig\n",
        "from pprint import pprint \n",
        "from azureml.core import Model"
      ],
      "outputs": [],
      "execution_count": 1,
      "metadata": {
        "gather": {
          "logged": 1707455657812
        },
        "jupyter": {
          "outputs_hidden": false,
          "source_hidden": false
        },
        "nteract": {
          "transient": {
            "deleting": false
          }
        }
      }
    },
    {
      "cell_type": "code",
      "source": [
        "ws = Workspace.from_config()\n",
        "\n",
        "# choose a name for experiment\n",
        "experiment_name = 'udacity-capstone'\n",
        "\n",
        "experiment=Experiment(ws, experiment_name)"
      ],
      "outputs": [],
      "execution_count": 4,
      "metadata": {
        "jupyter": {
          "source_hidden": false,
          "outputs_hidden": false
        },
        "nteract": {
          "transient": {
            "deleting": false
          }
        },
        "gather": {
          "logged": 1707455901755
        }
      }
    },
    {
      "cell_type": "code",
      "source": [
        "compute_target = ComputeTarget(workspace=ws, name=\"cpu-sbinstance\")"
      ],
      "outputs": [],
      "execution_count": 8,
      "metadata": {
        "jupyter": {
          "source_hidden": false,
          "outputs_hidden": false
        },
        "nteract": {
          "transient": {
            "deleting": false
          }
        },
        "gather": {
          "logged": 1707456047565
        }
      }
    },
    {
      "cell_type": "markdown",
      "source": [
        "## Dataset\n",
        "\n",
        "### Overview\n",
        "TODO: In this markdown cell, give an overview of the dataset you are using. Also mention the task you will be performing.\n",
        "\n",
        "\n",
        "TODO: Get data. In the cell below, write code to access the data you will be using in this project. Remember that the dataset needs to be external."
      ],
      "metadata": {}
    },
    {
      "cell_type": "markdown",
      "source": [
        "The below dataset is a hearth failure clinical record from Kaggle as mentioned in the project description. The task is to predict whether the heart will fail or not?"
      ],
      "metadata": {
        "nteract": {
          "transient": {
            "deleting": false
          }
        }
      }
    },
    {
      "cell_type": "code",
      "source": [
        "from azureml.data.dataset_factory import TabularDatasetFactory"
      ],
      "outputs": [],
      "execution_count": 3,
      "metadata": {
        "jupyter": {
          "source_hidden": false,
          "outputs_hidden": false
        },
        "nteract": {
          "transient": {
            "deleting": false
          }
        },
        "gather": {
          "logged": 1707455733795
        }
      }
    },
    {
      "cell_type": "code",
      "source": [
        "dataset = TabularDatasetFactory().from_delimited_files(\"https://raw.githubusercontent.com/bhupendrasolanki/udacity-capstone/main/heart_failure_clinical_records_dataset.csv\") ### YOUR CODE HERE ###\n",
        "df = dataset.to_pandas_dataframe().dropna()\n",
        "df.describe()"
      ],
      "outputs": [
        {
          "output_type": "execute_result",
          "execution_count": 19,
          "data": {
            "text/plain": "         age  anaemia  creatinine_phosphokinase  diabetes  ejection_fraction  \\\ncount 299.00   299.00                    299.00    299.00             299.00   \nmean   60.83     0.43                    581.84      0.42              38.08   \nstd    11.89     0.50                    970.29      0.49              11.83   \nmin    40.00     0.00                     23.00      0.00              14.00   \n25%    51.00     0.00                    116.50      0.00              30.00   \n50%    60.00     0.00                    250.00      0.00              38.00   \n75%    70.00     1.00                    582.00      1.00              45.00   \nmax    95.00     1.00                   7861.00      1.00              80.00   \n\n       high_blood_pressure  platelets  serum_creatinine  serum_sodium    sex  \\\ncount               299.00     299.00            299.00        299.00 299.00   \nmean                  0.35  263358.03              1.39        136.63   0.65   \nstd                   0.48   97804.24              1.03          4.41   0.48   \nmin                   0.00   25100.00              0.50        113.00   0.00   \n25%                   0.00  212500.00              0.90        134.00   0.00   \n50%                   0.00  262000.00              1.10        137.00   1.00   \n75%                   1.00  303500.00              1.40        140.00   1.00   \nmax                   1.00  850000.00              9.40        148.00   1.00   \n\n       smoking   time  DEATH_EVENT  \ncount   299.00 299.00       299.00  \nmean      0.32 130.26         0.32  \nstd       0.47  77.61         0.47  \nmin       0.00   4.00         0.00  \n25%       0.00  73.00         0.00  \n50%       0.00 115.00         0.00  \n75%       1.00 203.00         1.00  \nmax       1.00 285.00         1.00  ",
            "text/html": "<div>\n<style scoped>\n    .dataframe tbody tr th:only-of-type {\n        vertical-align: middle;\n    }\n\n    .dataframe tbody tr th {\n        vertical-align: top;\n    }\n\n    .dataframe thead th {\n        text-align: right;\n    }\n</style>\n<table border=\"1\" class=\"dataframe\">\n  <thead>\n    <tr style=\"text-align: right;\">\n      <th></th>\n      <th>age</th>\n      <th>anaemia</th>\n      <th>creatinine_phosphokinase</th>\n      <th>diabetes</th>\n      <th>ejection_fraction</th>\n      <th>high_blood_pressure</th>\n      <th>platelets</th>\n      <th>serum_creatinine</th>\n      <th>serum_sodium</th>\n      <th>sex</th>\n      <th>smoking</th>\n      <th>time</th>\n      <th>DEATH_EVENT</th>\n    </tr>\n  </thead>\n  <tbody>\n    <tr>\n      <th>count</th>\n      <td>299.00</td>\n      <td>299.00</td>\n      <td>299.00</td>\n      <td>299.00</td>\n      <td>299.00</td>\n      <td>299.00</td>\n      <td>299.00</td>\n      <td>299.00</td>\n      <td>299.00</td>\n      <td>299.00</td>\n      <td>299.00</td>\n      <td>299.00</td>\n      <td>299.00</td>\n    </tr>\n    <tr>\n      <th>mean</th>\n      <td>60.83</td>\n      <td>0.43</td>\n      <td>581.84</td>\n      <td>0.42</td>\n      <td>38.08</td>\n      <td>0.35</td>\n      <td>263358.03</td>\n      <td>1.39</td>\n      <td>136.63</td>\n      <td>0.65</td>\n      <td>0.32</td>\n      <td>130.26</td>\n      <td>0.32</td>\n    </tr>\n    <tr>\n      <th>std</th>\n      <td>11.89</td>\n      <td>0.50</td>\n      <td>970.29</td>\n      <td>0.49</td>\n      <td>11.83</td>\n      <td>0.48</td>\n      <td>97804.24</td>\n      <td>1.03</td>\n      <td>4.41</td>\n      <td>0.48</td>\n      <td>0.47</td>\n      <td>77.61</td>\n      <td>0.47</td>\n    </tr>\n    <tr>\n      <th>min</th>\n      <td>40.00</td>\n      <td>0.00</td>\n      <td>23.00</td>\n      <td>0.00</td>\n      <td>14.00</td>\n      <td>0.00</td>\n      <td>25100.00</td>\n      <td>0.50</td>\n      <td>113.00</td>\n      <td>0.00</td>\n      <td>0.00</td>\n      <td>4.00</td>\n      <td>0.00</td>\n    </tr>\n    <tr>\n      <th>25%</th>\n      <td>51.00</td>\n      <td>0.00</td>\n      <td>116.50</td>\n      <td>0.00</td>\n      <td>30.00</td>\n      <td>0.00</td>\n      <td>212500.00</td>\n      <td>0.90</td>\n      <td>134.00</td>\n      <td>0.00</td>\n      <td>0.00</td>\n      <td>73.00</td>\n      <td>0.00</td>\n    </tr>\n    <tr>\n      <th>50%</th>\n      <td>60.00</td>\n      <td>0.00</td>\n      <td>250.00</td>\n      <td>0.00</td>\n      <td>38.00</td>\n      <td>0.00</td>\n      <td>262000.00</td>\n      <td>1.10</td>\n      <td>137.00</td>\n      <td>1.00</td>\n      <td>0.00</td>\n      <td>115.00</td>\n      <td>0.00</td>\n    </tr>\n    <tr>\n      <th>75%</th>\n      <td>70.00</td>\n      <td>1.00</td>\n      <td>582.00</td>\n      <td>1.00</td>\n      <td>45.00</td>\n      <td>1.00</td>\n      <td>303500.00</td>\n      <td>1.40</td>\n      <td>140.00</td>\n      <td>1.00</td>\n      <td>1.00</td>\n      <td>203.00</td>\n      <td>1.00</td>\n    </tr>\n    <tr>\n      <th>max</th>\n      <td>95.00</td>\n      <td>1.00</td>\n      <td>7861.00</td>\n      <td>1.00</td>\n      <td>80.00</td>\n      <td>1.00</td>\n      <td>850000.00</td>\n      <td>9.40</td>\n      <td>148.00</td>\n      <td>1.00</td>\n      <td>1.00</td>\n      <td>285.00</td>\n      <td>1.00</td>\n    </tr>\n  </tbody>\n</table>\n</div>"
          },
          "metadata": {}
        }
      ],
      "execution_count": 19,
      "metadata": {
        "jupyter": {
          "source_hidden": false,
          "outputs_hidden": false
        },
        "nteract": {
          "transient": {
            "deleting": false
          }
        },
        "gather": {
          "logged": 1707458715361
        }
      }
    },
    {
      "cell_type": "code",
      "source": [
        "df.head()"
      ],
      "outputs": [
        {
          "output_type": "execute_result",
          "execution_count": 9,
          "data": {
            "text/plain": "    age  anaemia  creatinine_phosphokinase  diabetes  ejection_fraction  \\\n0  75.0        0                       582         0                 20   \n1  55.0        0                      7861         0                 38   \n2  65.0        0                       146         0                 20   \n3  50.0        1                       111         0                 20   \n4  65.0        1                       160         1                 20   \n\n   high_blood_pressure  platelets  serum_creatinine  serum_sodium  sex  \\\n0                    1  265000.00               1.9           130    1   \n1                    0  263358.03               1.1           136    1   \n2                    0  162000.00               1.3           129    1   \n3                    0  210000.00               1.9           137    1   \n4                    0  327000.00               2.7           116    0   \n\n   smoking  time  DEATH_EVENT  \n0        0     4            1  \n1        0     6            1  \n2        1     7            1  \n3        0     7            1  \n4        0     8            1  ",
            "text/html": "<div>\n<style scoped>\n    .dataframe tbody tr th:only-of-type {\n        vertical-align: middle;\n    }\n\n    .dataframe tbody tr th {\n        vertical-align: top;\n    }\n\n    .dataframe thead th {\n        text-align: right;\n    }\n</style>\n<table border=\"1\" class=\"dataframe\">\n  <thead>\n    <tr style=\"text-align: right;\">\n      <th></th>\n      <th>age</th>\n      <th>anaemia</th>\n      <th>creatinine_phosphokinase</th>\n      <th>diabetes</th>\n      <th>ejection_fraction</th>\n      <th>high_blood_pressure</th>\n      <th>platelets</th>\n      <th>serum_creatinine</th>\n      <th>serum_sodium</th>\n      <th>sex</th>\n      <th>smoking</th>\n      <th>time</th>\n      <th>DEATH_EVENT</th>\n    </tr>\n  </thead>\n  <tbody>\n    <tr>\n      <th>0</th>\n      <td>75.0</td>\n      <td>0</td>\n      <td>582</td>\n      <td>0</td>\n      <td>20</td>\n      <td>1</td>\n      <td>265000.00</td>\n      <td>1.9</td>\n      <td>130</td>\n      <td>1</td>\n      <td>0</td>\n      <td>4</td>\n      <td>1</td>\n    </tr>\n    <tr>\n      <th>1</th>\n      <td>55.0</td>\n      <td>0</td>\n      <td>7861</td>\n      <td>0</td>\n      <td>38</td>\n      <td>0</td>\n      <td>263358.03</td>\n      <td>1.1</td>\n      <td>136</td>\n      <td>1</td>\n      <td>0</td>\n      <td>6</td>\n      <td>1</td>\n    </tr>\n    <tr>\n      <th>2</th>\n      <td>65.0</td>\n      <td>0</td>\n      <td>146</td>\n      <td>0</td>\n      <td>20</td>\n      <td>0</td>\n      <td>162000.00</td>\n      <td>1.3</td>\n      <td>129</td>\n      <td>1</td>\n      <td>1</td>\n      <td>7</td>\n      <td>1</td>\n    </tr>\n    <tr>\n      <th>3</th>\n      <td>50.0</td>\n      <td>1</td>\n      <td>111</td>\n      <td>0</td>\n      <td>20</td>\n      <td>0</td>\n      <td>210000.00</td>\n      <td>1.9</td>\n      <td>137</td>\n      <td>1</td>\n      <td>0</td>\n      <td>7</td>\n      <td>1</td>\n    </tr>\n    <tr>\n      <th>4</th>\n      <td>65.0</td>\n      <td>1</td>\n      <td>160</td>\n      <td>1</td>\n      <td>20</td>\n      <td>0</td>\n      <td>327000.00</td>\n      <td>2.7</td>\n      <td>116</td>\n      <td>0</td>\n      <td>0</td>\n      <td>8</td>\n      <td>1</td>\n    </tr>\n  </tbody>\n</table>\n</div>"
          },
          "metadata": {}
        }
      ],
      "execution_count": 9,
      "metadata": {
        "jupyter": {
          "source_hidden": false,
          "outputs_hidden": false
        },
        "nteract": {
          "transient": {
            "deleting": false
          }
        },
        "gather": {
          "logged": 1707456348954
        }
      }
    },
    {
      "cell_type": "markdown",
      "source": [
        "## AutoML Configuration\n",
        "\n",
        "TODO: Explain why you chose the automl settings and cofiguration you used below."
      ],
      "metadata": {}
    },
    {
      "cell_type": "code",
      "source": [
        "# TODO: Put your automl settings here\n",
        "automl_settings = {\n",
        "    \"experiment_timeout_minutes\": 20,\n",
        "    \"max_concurrent_iterations\": 5,\n",
        "    \"primary_metric\" : 'accuracy'\n",
        "}\n",
        "\n",
        "# TODO: Put your automl config here\n",
        "automl_config = AutoMLConfig(\n",
        "        task='classification',\n",
        "        compute_target=compute_target,\n",
        "        training_data=dataset,\n",
        "        label_column_name='DEATH_EVENT',\n",
        "        n_cross_validations=5,\n",
        "        **automl_settings\n",
        ")"
      ],
      "outputs": [],
      "execution_count": 13,
      "metadata": {
        "gather": {
          "logged": 1707456674140
        },
        "jupyter": {
          "outputs_hidden": false,
          "source_hidden": false
        },
        "nteract": {
          "transient": {
            "deleting": false
          }
        }
      }
    },
    {
      "cell_type": "code",
      "source": [
        "# TODO: Submit your experiment\n",
        "remote_run = experiment.submit(automl_config)"
      ],
      "outputs": [
        {
          "output_type": "stream",
          "name": "stdout",
          "text": "Submitting remote run.\n"
        },
        {
          "output_type": "display_data",
          "data": {
            "text/html": "<table style=\"width:100%\"><tr><th>Experiment</th><th>Id</th><th>Type</th><th>Status</th><th>Details Page</th><th>Docs Page</th></tr><tr><td>udacity-capstone</td><td>AutoML_c8cfe321-8de0-4ede-9550-cbd201a5f3e7</td><td>automl</td><td>NotStarted</td><td><a href=\"https://ml.azure.com/runs/AutoML_c8cfe321-8de0-4ede-9550-cbd201a5f3e7?wsid=/subscriptions/6b4af8be-9931-443e-90f6-c4c34a1f9737/resourcegroups/aml-quickstarts-252188/workspaces/quick-starts-ws-252188&amp;tid=660b3398-b80e-49d2-bc5b-ac1dc93b5254\" target=\"_blank\" rel=\"noopener\">Link to Azure Machine Learning studio</a></td><td><a href=\"https://docs.microsoft.com/en-us/python/api/overview/azure/ml/intro?view=azure-ml-py\" target=\"_blank\" rel=\"noopener\">Link to Documentation</a></td></tr></table>"
          },
          "metadata": {}
        }
      ],
      "execution_count": 14,
      "metadata": {
        "gather": {
          "logged": 1707456679301
        },
        "jupyter": {
          "outputs_hidden": false,
          "source_hidden": false
        },
        "nteract": {
          "transient": {
            "deleting": false
          }
        }
      }
    },
    {
      "cell_type": "markdown",
      "source": [
        "## Run Details\n",
        "\n",
        "OPTIONAL: Write about the different models trained and their performance. Why do you think some models did better than others?\n",
        "\n",
        "TODO: In the cell below, use the `RunDetails` widget to show the different experiments."
      ],
      "metadata": {}
    },
    {
      "cell_type": "code",
      "source": [
        "RunDetails(remote_run).show()\n",
        "remote_run.wait_for_completion(show_output=True)"
      ],
      "outputs": [
        {
          "output_type": "display_data",
          "data": {
            "text/plain": "_AutoMLWidget(widget_settings={'childWidgetDisplay': 'popup', 'send_telemetry': False, 'log_level': 'INFO', 's…",
            "application/vnd.jupyter.widget-view+json": {
              "version_major": 2,
              "version_minor": 0,
              "model_id": "c88b33ee313f4ac3ba05c6dc5cbf0ef3"
            }
          },
          "metadata": {}
        },
        {
          "output_type": "display_data",
          "data": {
            "application/aml.mini.widget.v1": "{\"status\": \"Completed\", \"workbench_run_details_uri\": \"https://ml.azure.com/runs/AutoML_c8cfe321-8de0-4ede-9550-cbd201a5f3e7?wsid=/subscriptions/6b4af8be-9931-443e-90f6-c4c34a1f9737/resourcegroups/aml-quickstarts-252188/workspaces/quick-starts-ws-252188&tid=660b3398-b80e-49d2-bc5b-ac1dc93b5254\", \"run_id\": \"AutoML_c8cfe321-8de0-4ede-9550-cbd201a5f3e7\", \"run_properties\": {\"run_id\": \"AutoML_c8cfe321-8de0-4ede-9550-cbd201a5f3e7\", \"created_utc\": \"2024-02-09T05:31:18.03591Z\", \"properties\": {\"num_iterations\": \"1000\", \"training_type\": \"TrainFull\", \"acquisition_function\": \"EI\", \"primary_metric\": \"accuracy\", \"train_split\": \"0\", \"acquisition_parameter\": \"0\", \"num_cross_validation\": \"5\", \"target\": \"cpu-sbinstance\", \"AMLSettingsJsonString\": \"{\\\"path\\\":null,\\\"name\\\":\\\"udacity-capstone\\\",\\\"subscription_id\\\":\\\"6b4af8be-9931-443e-90f6-c4c34a1f9737\\\",\\\"resource_group\\\":\\\"aml-quickstarts-252188\\\",\\\"workspace_name\\\":\\\"quick-starts-ws-252188\\\",\\\"region\\\":\\\"westus2\\\",\\\"compute_target\\\":\\\"cpu-sbinstance\\\",\\\"spark_service\\\":null,\\\"azure_service\\\":\\\"remote\\\",\\\"many_models\\\":false,\\\"pipeline_fetch_max_batch_size\\\":1,\\\"enable_batch_run\\\":true,\\\"enable_parallel_run\\\":false,\\\"num_procs\\\":null,\\\"enable_run_restructure\\\":false,\\\"start_auxiliary_runs_before_parent_complete\\\":false,\\\"enable_code_generation\\\":true,\\\"iterations\\\":1000,\\\"primary_metric\\\":\\\"accuracy\\\",\\\"task_type\\\":\\\"classification\\\",\\\"positive_label\\\":null,\\\"data_script\\\":null,\\\"test_size\\\":0.0,\\\"test_include_predictions_only\\\":false,\\\"validation_size\\\":0.0,\\\"n_cross_validations\\\":5,\\\"y_min\\\":null,\\\"y_max\\\":null,\\\"num_classes\\\":null,\\\"featurization\\\":\\\"auto\\\",\\\"_ignore_package_version_incompatibilities\\\":false,\\\"is_timeseries\\\":false,\\\"max_cores_per_iteration\\\":1,\\\"max_concurrent_iterations\\\":5,\\\"iteration_timeout_minutes\\\":null,\\\"mem_in_mb\\\":null,\\\"enforce_time_on_windows\\\":false,\\\"experiment_timeout_minutes\\\":20,\\\"experiment_exit_score\\\":null,\\\"partition_column_names\\\":null,\\\"whitelist_models\\\":null,\\\"blacklist_algos\\\":[\\\"TensorFlowLinearClassifier\\\",\\\"TensorFlowDNN\\\"],\\\"supported_models\\\":[\\\"XGBoostClassifier\\\",\\\"LinearSVM\\\",\\\"KNN\\\",\\\"BernoulliNaiveBayes\\\",\\\"LogisticRegression\\\",\\\"LightGBM\\\",\\\"TensorFlowDNN\\\",\\\"DecisionTree\\\",\\\"MultinomialNaiveBayes\\\",\\\"GradientBoosting\\\",\\\"TabnetClassifier\\\",\\\"AveragedPerceptronClassifier\\\",\\\"TensorFlowLinearClassifier\\\",\\\"ExtremeRandomTrees\\\",\\\"SVM\\\",\\\"SGD\\\",\\\"RandomForest\\\"],\\\"private_models\\\":[],\\\"auto_blacklist\\\":true,\\\"blacklist_samples_reached\\\":false,\\\"exclude_nan_labels\\\":true,\\\"verbosity\\\":20,\\\"_debug_log\\\":\\\"azureml_automl.log\\\",\\\"show_warnings\\\":false,\\\"model_explainability\\\":true,\\\"service_url\\\":null,\\\"sdk_url\\\":null,\\\"sdk_packages\\\":null,\\\"enable_onnx_compatible_models\\\":false,\\\"enable_split_onnx_featurizer_estimator_models\\\":false,\\\"vm_type\\\":\\\"Standard_DS3_v2\\\",\\\"telemetry_verbosity\\\":20,\\\"send_telemetry\\\":true,\\\"enable_dnn\\\":false,\\\"scenario\\\":\\\"AutoML\\\",\\\"environment_label\\\":null,\\\"save_mlflow\\\":false,\\\"enable_categorical_indicators\\\":false,\\\"force_text_dnn\\\":false,\\\"enable_feature_sweeping\\\":true,\\\"enable_early_stopping\\\":true,\\\"early_stopping_n_iters\\\":10,\\\"arguments\\\":null,\\\"dataset_id\\\":\\\"ba801acc-e5c1-4683-8904-0bfa1831591a\\\",\\\"hyperdrive_config\\\":null,\\\"validation_dataset_id\\\":null,\\\"run_source\\\":null,\\\"metrics\\\":null,\\\"enable_metric_confidence\\\":false,\\\"enable_ensembling\\\":true,\\\"enable_stack_ensembling\\\":true,\\\"ensemble_iterations\\\":15,\\\"enable_tf\\\":false,\\\"enable_subsampling\\\":null,\\\"subsample_seed\\\":null,\\\"enable_nimbusml\\\":false,\\\"enable_streaming\\\":false,\\\"force_streaming\\\":false,\\\"track_child_runs\\\":true,\\\"n_best_runs\\\":1,\\\"allowed_private_models\\\":[],\\\"label_column_name\\\":\\\"DEATH_EVENT\\\",\\\"weight_column_name\\\":null,\\\"cv_split_column_names\\\":null,\\\"enable_local_managed\\\":false,\\\"_local_managed_run_id\\\":null,\\\"cost_mode\\\":1,\\\"lag_length\\\":0,\\\"metric_operation\\\":\\\"maximize\\\",\\\"preprocess\\\":true}\", \"DataPrepJsonString\": \"{\\\\\\\"training_data\\\\\\\": {\\\\\\\"datasetId\\\\\\\": \\\\\\\"ba801acc-e5c1-4683-8904-0bfa1831591a\\\\\\\"}, \\\\\\\"datasets\\\\\\\": 0}\", \"EnableSubsampling\": null, \"runTemplate\": \"AutoML\", \"azureml.runsource\": \"automl\", \"display_task_type\": \"classification\", \"dependencies_versions\": \"{\\\"azureml-dataprep-native\\\": \\\"38.0.0\\\", \\\"azureml-dataprep\\\": \\\"4.10.8\\\", \\\"azureml-dataprep-rslex\\\": \\\"2.17.12\\\", \\\"azureml-train-automl-runtime\\\": \\\"1.51.0.post2\\\", \\\"azureml-train-automl-client\\\": \\\"1.51.0.post1\\\", \\\"azureml-training-tabular\\\": \\\"1.51.0.post1\\\", \\\"azureml-automl-runtime\\\": \\\"1.51.0.post1\\\", \\\"azureml-automl-core\\\": \\\"1.51.0.post1\\\", \\\"azureml-mlflow\\\": \\\"1.51.0\\\", \\\"azureml-datadrift\\\": \\\"1.51.0\\\", \\\"azureml-pipeline\\\": \\\"1.51.0\\\", \\\"azureml-contrib-dataset\\\": \\\"1.51.0\\\", \\\"azureml-contrib-notebook\\\": \\\"1.51.0\\\", \\\"azureml-accel-models\\\": \\\"1.51.0\\\", \\\"azureml-automl-dnn-nlp\\\": \\\"1.51.0\\\", \\\"azureml-pipeline-core\\\": \\\"1.51.0\\\", \\\"azureml-responsibleai\\\": \\\"1.51.0\\\", \\\"azureml-contrib-automl-pipeline-steps\\\": \\\"1.51.0\\\", \\\"azureml-pipeline-steps\\\": \\\"1.51.0\\\", \\\"azureml-core\\\": \\\"1.51.0\\\", \\\"azureml-contrib-reinforcementlearning\\\": \\\"1.51.0\\\", \\\"azureml-contrib-server\\\": \\\"1.51.0\\\", \\\"azureml-opendatasets\\\": \\\"1.51.0\\\", \\\"azureml-contrib-services\\\": \\\"1.51.0\\\", \\\"azureml-telemetry\\\": \\\"1.51.0\\\", \\\"azureml-train-restclients-hyperdrive\\\": \\\"1.51.0\\\", \\\"azureml-interpret\\\": \\\"1.51.0\\\", \\\"azureml-train-core\\\": \\\"1.51.0\\\", \\\"azureml-tensorboard\\\": \\\"1.51.0\\\", \\\"azureml-train\\\": \\\"1.51.0\\\", \\\"azureml-contrib-pipeline-steps\\\": \\\"1.51.0\\\", \\\"azureml-explain-model\\\": \\\"1.51.0\\\", \\\"azureml-cli-common\\\": \\\"1.51.0\\\", \\\"azureml-widgets\\\": \\\"1.51.0\\\", \\\"azureml-train-automl\\\": \\\"1.51.0\\\", \\\"azureml-defaults\\\": \\\"1.51.0\\\", \\\"azureml-contrib-fairness\\\": \\\"1.51.0\\\", \\\"azureml-sdk\\\": \\\"1.51.0\\\", \\\"azureml-dataset-runtime\\\": \\\"1.51.0\\\", \\\"azureml-inference-server-http\\\": \\\"0.8.4\\\"}\", \"_aml_system_scenario_identification\": \"Remote.Parent\", \"ClientType\": \"SDK\", \"PlatformVersion\": \"DPV1\", \"environment_cpu_name\": \"AzureML-AutoML\", \"environment_cpu_label\": \"scikit-upgrade2\", \"environment_gpu_name\": \"AzureML-AutoML-GPU\", \"environment_gpu_label\": \"scikit-upgrade2\", \"root_attribution\": \"automl\", \"attribution\": \"AutoML\", \"Orchestrator\": \"AutoML\", \"CancelUri\": \"https://westus2.api.azureml.ms/jasmine/v1.0/subscriptions/6b4af8be-9931-443e-90f6-c4c34a1f9737/resourceGroups/aml-quickstarts-252188/providers/Microsoft.MachineLearningServices/workspaces/quick-starts-ws-252188/experimentids/b61e81a0-3bf4-4c35-a3ce-f1b7c720d571/cancel/AutoML_c8cfe321-8de0-4ede-9550-cbd201a5f3e7\", \"ClientSdkVersion\": null, \"snapshotId\": \"00000000-0000-0000-0000-000000000000\", \"SetupRunId\": \"AutoML_c8cfe321-8de0-4ede-9550-cbd201a5f3e7_setup\", \"SetupRunContainerId\": \"dcid.AutoML_c8cfe321-8de0-4ede-9550-cbd201a5f3e7_setup\", \"FeaturizationRunJsonPath\": \"featurizer_container.json\", \"FeaturizationRunId\": \"AutoML_c8cfe321-8de0-4ede-9550-cbd201a5f3e7_featurize\", \"ProblemInfoJsonString\": \"{\\\"dataset_num_categorical\\\": 0, \\\"is_sparse\\\": false, \\\"subsampling\\\": false, \\\"has_extra_col\\\": true, \\\"dataset_classes\\\": 2, \\\"dataset_features\\\": 12, \\\"dataset_samples\\\": 299, \\\"single_frequency_class_detected\\\": false}\", \"ModelExplainRunId\": \"AutoML_c8cfe321-8de0-4ede-9550-cbd201a5f3e7_ModelExplain\"}, \"tags\": {\"model_explain_run\": \"best_run\", \"_aml_system_automl_run_workspace_id\": \"70d03360-eaac-4ab5-8e49-1e7de2cd126b\", \"_aml_system_azureml.automlComponent\": \"AutoML\", \"pipeline_id_000\": \"628c2351f7c75d74ad3673f2d39af16d6976da2e;5f21d4801ee2a6073890b89985177d37ef49c646;5dfac790c5c209f98a1da2dc1c7fb76f0397324f;22bffc6cdfb453aa19b0792ec8a8b592bd44dc5b;3735210984ea10097d5c91905cf6300ac278cd89;c7af0367625be6ac5c2fecbfc72ed444cb7a2111;081b692de9e87424d86c2c1d0787b65e098fc386;bc4e14e9481990f09b66c70640f3b1c528f584ac;2964988f7520e6167bfe42ba2c42ab4a75f8a68c;294650ec23bc3d067a4972de7ceb12f6e97260fa;799d2168db11fc19b9e1c6c1df62f8981ad39fe9;ce96746d6f86360fe360023f5ae43340d1986145;5304e705d6f401cb07f85bcf0ca59ac1f84dfcf5;44b5d2d23120dfcf96a7dc6389a293d17a966b1b;7b422e7b3f86902c2409d5b5d9ff0c84d5dacfee;08e13545f5f7e2df5ef6a66d4110cfd996b1a0e3;ca211529127bb19e1fc933b24b457a03beb5e48e;3caa818370e5e0c328d6266c359019bd31681270;589334a57221e0720a95cf217c065115a7b841d1;17f87d449bb43aaf3cdae4b7eb6dd6e7fbdaf343;35b8e2db3c5f6e714072e1be9f0210fe48426975;3fd2e115482e0c7b92aa3297688aefb6c3aa6fb8;1dfdf370ba770047b14bfa59c40920815defcdab;da45f657e4591caadf1589a85a1f7b8932585595;dc68fbd594530b5d52812dd9b3ffa3d6d8ba625e;83c8974d3c3077eb039f99670786892c05e08d80;537262f080e4a6d13a846eeb0a03bfb967c8251a;664e966ce723fe972f3a23a912154a68b05d3f1e;6f39e692723da42e43aa2e593332cb5d3568a3f2;3d9e37d91189f9df1d9c0f2e0cfed345c3a54197;f0ea9ff175d03a19ae03ebe2246a695c85b44396;eec7dd1668df1a4356b23a99e4b6e000b40f98a3;6cf6ad11e634f762559a5673772444518f6513d2;49432169fe04e8aae4698c6aee8127dffd7c4539;d2dce85b4753de3733e6ded1affa9697e682e812;fc65c103728d8cdf7886ddc1dd6f38cbf64b0708;54a5b238af4a8f3004861933220e71210176be3c;b459e979244cccd9f7020a0cbea24d048911774b;cbbef77cccbd4de8c0d832bcf23c4b1c3448cfe8;d4a0230cdc4e757b3ecd2a2f364f8f0141fb5e8d;1738fe89ab42c2ee87cf4a21e4d695c249f42c97;0605eb4e6a006a823bd405b27c46ea39a471dea4;34790e018144db75fe8e25a7e8f373370ebc50bc;107833013dad2d77837ed1a9a24cf98773cd8ca1;e1ab69131833fdcfc7b181e47391025992c5e9e2;942ef24efff755923d661fc53ca6e6202d0a8e2f;ffe2dee36b1a25bbc4b512b7611e4d0a9127d962;6f015fc1fcb1d4b79ae53e4ab86c5b3099182e47\", \"score_000\": \"0.6019209039548021;0.6019209039548024;0.8428248587570621;0.7323163841807909;0.836045197740113;0.7990395480225988;0.7223728813559323;0.7158757062146892;0.7858757062146893;0.8091525423728815;0.8226553672316383;0.7157627118644068;0.8127118644067796;0.8094350282485877;0.7224858757062147;0.8258192090395479;0.7559887005649718;0.8061016949152542;0.8192655367231639;0.8093785310734465;0.8225988700564972;0.8361016949152542;0.8294915254237288;0.8160451977401131;0.8293785310734464;0.822542372881356;0.8425988700564971;0.8461581920903957;0.8393785310734463;0.836045197740113;0.8327118644067797;0.8393220338983051;0.8292090395480226;0.8427683615819209;0.8293785310734464;0.67909604519774;0.8528248587570622;0.8293220338983052;0.846271186440678;0.8227118644067797;0.8428813559322034;0.8328813559322035;0.8328248587570621;0.8427118644067797;0.8195480225988702;0.8495480225988701;0.7759322033898306;0.8293785310734464;0.8224293785310735;0.8325988700564972;0.7359322033898306;NaN;NaN;NaN;NaN;0.8696045197740112;0.8930508474576271\", \"predicted_cost_000\": \"0.5;0.5;0;0.5;0.5;0;0.5;0.5;0.5;0.5;0.5;0.5;0.5;0.5;0.5;0.5;0.5;0.5;0.5;0.0902381668691168;0.5;0.01861102940609004;0.2570499882409052;0.07329589097619048;0.040891971352559335;0.031160779050005326;0.11208075404781837;0.3258763716236421;0.14963845347850163;0.025680923827122615;0.14149637427019815;0.3952529951371795;0.06547804232903895;0.19455401311335935;0.16430920980983665;0.041361299391492065;0.1964137517872651;0.02587798419001093;0.07675683876843192;0.13605064949419604;0.09684168552206569;0.15305657082120444;0.15729625632359778;0.2578543772030425;0.17357102997045193;0.13318441612927104;0.10628229978361994;0.2730921526486202;0.10337978809073435;0.1942414440557913;0.19706553421646145;0.24141706764220286;0.32558368862207054;0.18996252100324523;0.15640047775640784;0;0\", \"fit_time_000\": \"0.006886000000000001;0.015293400000000002;0.06321159999999999;0.0818794;0.031110400000000003;0.101979;0.039475800000000005;0.0290168;0.026514199999999998;0.028794399999999998;0.37791779999999997;0.027612199999999996;0.022514;0.0391762;0.0183106;0.4933034;0.0144646;0.0474686;0.027413399999999997;0.133357;0.0326022;0.0299018;0.47191759999999994;0.0694976;0.045239800000000004;0.10998959999999999;0.209924;0.1009156;0.3311446;0.0499892;0.11266419999999999;0.181876;0.0588476;0.0634896;0.4386685999999999;0.0627108;0.12489020000000002;0.051689;0.1880638;0.07290880000000001;0.3897186;0.09107019999999999;0.21098180000000002;0.6824125999999999;0.2684544;0.11818999999999999;0.1715144;1.357556;0.1570716;0.2761532000000001;0.15656560000000003;NaN;NaN;NaN;NaN;45;41\", \"training_percent_000\": \"100;100;100;100;100;100;100;100;100;100;100;100;100;100;100;100;100;100;100;100;100;100;100;100;100;100;100;100;100;100;100;100;100;100;100;100;100;100;100;100;100;100;100;100;100;100;100;100;100;100;100;100;100;100;100;100;100\", \"iteration_000\": \"4;8;0;12;5;1;9;13;6;10;2;14;7;3;15;11;16;17;18;23;19;21;22;20;24;26;25;27;28;29;30;33;31;32;34;35;36;37;38;39;40;41;42;43;44;45;46;47;48;49;50;51;52;53;54;56;55\", \"run_preprocessor_000\": \"StandardScalerWrapper;StandardScalerWrapper;MaxAbsScaler;StandardScalerWrapper;MaxAbsScaler;MaxAbsScaler;StandardScalerWrapper;StandardScalerWrapper;RobustScaler;StandardScalerWrapper;MaxAbsScaler;RobustScaler;MaxAbsScaler;SparseNormalizer;MinMaxScaler;MinMaxScaler;SparseNormalizer;MaxAbsScaler;StandardScalerWrapper;StandardScalerWrapper;StandardScalerWrapper;StandardScalerWrapper;SparseNormalizer;MaxAbsScaler;StandardScalerWrapper;RobustScaler;MinMaxScaler;SparseNormalizer;RobustScaler;MinMaxScaler;RobustScaler;StandardScalerWrapper;StandardScalerWrapper;SparseNormalizer;RobustScaler;PCA;SparseNormalizer;MaxAbsScaler;SparseNormalizer;MinMaxScaler;SparseNormalizer;SparseNormalizer;SparseNormalizer;RobustScaler;SparseNormalizer;SparseNormalizer;StandardScalerWrapper;StandardScalerWrapper;StandardScalerWrapper;MaxAbsScaler;MaxAbsScaler;SparseNormalizer;;;;;\", \"run_algorithm_000\": \"KNN;KNN;LightGBM;LogisticRegression;LightGBM;XGBoostClassifier;SVM;KNN;LogisticRegression;XGBoostClassifier;ExtremeRandomTrees;KNN;LightGBM;XGBoostClassifier;KNN;RandomForest;KNN;LogisticRegression;XGBoostClassifier;RandomForest;XGBoostClassifier;XGBoostClassifier;RandomForest;LogisticRegression;XGBoostClassifier;RandomForest;LightGBM;XGBoostClassifier;RandomForest;LightGBM;LightGBM;XGBoostClassifier;XGBoostClassifier;XGBoostClassifier;RandomForest;XGBoostClassifier;LightGBM;LightGBM;XGBoostClassifier;LightGBM;XGBoostClassifier;XGBoostClassifier;XGBoostClassifier;GradientBoosting;XGBoostClassifier;LightGBM;RandomForest;ExtremeRandomTrees;XGBoostClassifier;RandomForest;LightGBM;XGBoostClassifier;;;;StackEnsemble;VotingEnsemble\", \"dynamic_allowlisting_iterations\": \"<25>;<30>;<35>;<40>;<45>;<50>;\", \"pipeline_id_001\": \"4ac8f7dce88f885cf5dd6909306d41bba52ec186;487317e5b7051cca9a3f4722bcaeb5569a29e8a4;b7f53c8c85ec35fb92231deec813366c53304316;cd466902c7cc56b8aeb7081ad6b901e4c0005e41;6fe4fc149fdc2eee66425f06e89e4a51cfdb2313;c5389315bc5645e218fcf9796a883b6620381fbd;c54527505577de5c7d9be05eb12aa19519975369;__AutoML_Stack_Ensemble__;__AutoML_Ensemble__\", \"_aml_system_azureml.automl_early_exit_message\": \"No scores improved over last 10 iterations, so experiment stopped early. This early stopping behavior can be disabled by setting enable_early_stopping = False in AutoMLConfig for notebook/python SDK runs.\", \"automl_best_child_run_id\": \"AutoML_c8cfe321-8de0-4ede-9550-cbd201a5f3e7_55\", \"model_explain_best_run_child_id\": \"AutoML_c8cfe321-8de0-4ede-9550-cbd201a5f3e7_55\"}, \"end_time_utc\": \"2024-02-09T05:47:11.311541Z\", \"status\": \"Completed\", \"log_files\": {}, \"log_groups\": [], \"run_duration\": \"0:15:53\", \"run_number\": \"1707456678\", \"run_queued_details\": {\"status\": \"Completed\", \"details\": null}}, \"child_runs\": [{\"run_id\": \"AutoML_c8cfe321-8de0-4ede-9550-cbd201a5f3e7_setup\", \"run_number\": 1707456691, \"metric\": null, \"status\": \"Completed\", \"run_type\": \"azureml.scriptrun\", \"training_percent\": null, \"start_time\": \"2024-02-09T05:31:40.305249Z\", \"end_time\": \"2024-02-09T05:34:15.932993Z\", \"created_time\": \"2024-02-09T05:31:31.29774Z\", \"created_time_dt\": \"2024-02-09T05:31:31.29774Z\", \"duration\": \"0:02:44\", \"iteration\": null, \"goal\": null, \"run_name\": \"Completed\", \"run_properties\": null}, {\"run_id\": \"AutoML_c8cfe321-8de0-4ede-9550-cbd201a5f3e7_featurize\", \"run_number\": 1707456856, \"metric\": null, \"status\": \"Completed\", \"run_type\": \"automl.featurization\", \"training_percent\": null, \"start_time\": \"2024-02-09T05:34:16.658978Z\", \"end_time\": \"2024-02-09T05:35:04.457643Z\", \"created_time\": \"2024-02-09T05:34:16.240367Z\", \"created_time_dt\": \"2024-02-09T05:34:16.240367Z\", \"duration\": \"0:00:48\", \"iteration\": null, \"goal\": null, \"run_name\": \"Completed\", \"run_properties\": null}, {\"run_id\": \"AutoML_c8cfe321-8de0-4ede-9550-cbd201a5f3e7_0\", \"run_number\": 1707456906, \"metric\": null, \"status\": \"Completed\", \"run_type\": null, \"training_percent\": \"100\", \"start_time\": \"2024-02-09T05:35:34.201023Z\", \"end_time\": \"2024-02-09T05:35:55.94497Z\", \"created_time\": \"2024-02-09T05:35:06.015367Z\", \"created_time_dt\": \"2024-02-09T05:35:06.015367Z\", \"duration\": \"0:00:49\", \"iteration\": \"0\", \"goal\": \"accuracy_max\", \"run_name\": \"MaxAbsScaler, LightGBM\", \"run_properties\": \"copy=True\", \"primary_metric\": 0.84282486, \"best_metric\": 0.84282486}, {\"run_id\": \"AutoML_c8cfe321-8de0-4ede-9550-cbd201a5f3e7_worker_0\", \"run_number\": 1707456907, \"metric\": null, \"status\": \"Completed\", \"run_type\": \"azureml.scriptrun\", \"training_percent\": null, \"start_time\": \"2024-02-09T05:35:14.936706Z\", \"end_time\": \"2024-02-09T05:37:02.618717Z\", \"created_time\": \"2024-02-09T05:35:07.850995Z\", \"created_time_dt\": \"2024-02-09T05:35:07.850995Z\", \"duration\": \"0:01:54\", \"iteration\": null, \"goal\": null, \"run_name\": \"Completed\", \"run_properties\": null}, {\"run_id\": \"AutoML_c8cfe321-8de0-4ede-9550-cbd201a5f3e7_4\", \"run_number\": 1707456908, \"metric\": null, \"status\": \"Completed\", \"run_type\": null, \"training_percent\": \"100\", \"start_time\": \"2024-02-09T05:35:34.734194Z\", \"end_time\": \"2024-02-09T05:35:55.639002Z\", \"created_time\": \"2024-02-09T05:35:08.105599Z\", \"created_time_dt\": \"2024-02-09T05:35:08.105599Z\", \"duration\": \"0:00:47\", \"iteration\": \"4\", \"goal\": \"accuracy_max\", \"run_name\": \"StandardScalerWrapper, KNN\", \"run_properties\": \"copy=True, with_mean=False, with_std=False\", \"primary_metric\": 0.6019209, \"best_metric\": 0.84282486}, {\"run_id\": \"AutoML_c8cfe321-8de0-4ede-9550-cbd201a5f3e7_worker_1\", \"run_number\": 1707456909, \"metric\": null, \"status\": \"Completed\", \"run_type\": \"azureml.scriptrun\", \"training_percent\": null, \"start_time\": \"2024-02-09T05:35:17.314347Z\", \"end_time\": \"2024-02-09T05:36:59.291478Z\", \"created_time\": \"2024-02-09T05:35:09.93639Z\", \"created_time_dt\": \"2024-02-09T05:35:09.93639Z\", \"duration\": \"0:01:49\", \"iteration\": null, \"goal\": null, \"run_name\": \"Completed\", \"run_properties\": null}, {\"run_id\": \"AutoML_c8cfe321-8de0-4ede-9550-cbd201a5f3e7_8\", \"run_number\": 1707456910, \"metric\": null, \"status\": \"Completed\", \"run_type\": null, \"training_percent\": \"100\", \"start_time\": \"2024-02-09T05:35:37.042599Z\", \"end_time\": \"2024-02-09T05:35:56.468002Z\", \"created_time\": \"2024-02-09T05:35:10.510039Z\", \"created_time_dt\": \"2024-02-09T05:35:10.510039Z\", \"duration\": \"0:00:45\", \"iteration\": \"8\", \"goal\": \"accuracy_max\", \"run_name\": \"StandardScalerWrapper, KNN\", \"run_properties\": \"copy=True, with_mean=False, with_std=False\", \"primary_metric\": 0.6019209, \"best_metric\": 0.84282486}, {\"run_id\": \"AutoML_c8cfe321-8de0-4ede-9550-cbd201a5f3e7_10\", \"run_number\": 1707456911, \"metric\": null, \"status\": \"Completed\", \"run_type\": null, \"training_percent\": \"100\", \"start_time\": \"2024-02-09T05:36:16.46023Z\", \"end_time\": \"2024-02-09T05:36:33.991054Z\", \"created_time\": \"2024-02-09T05:35:11.469918Z\", \"created_time_dt\": \"2024-02-09T05:35:11.469918Z\", \"duration\": \"0:01:22\", \"iteration\": \"10\", \"goal\": \"accuracy_max\", \"run_name\": \"StandardScalerWrapper, XGBoostClassifier\", \"run_properties\": \"copy=True, with_mean=False, with_std=False\", \"primary_metric\": 0.80915254, \"best_metric\": 0.84282486}, {\"run_id\": \"AutoML_c8cfe321-8de0-4ede-9550-cbd201a5f3e7_worker_2\", \"run_number\": 1707456912, \"metric\": null, \"status\": \"Completed\", \"run_type\": \"azureml.scriptrun\", \"training_percent\": null, \"start_time\": \"2024-02-09T05:35:19.438983Z\", \"end_time\": \"2024-02-09T05:37:02.564375Z\", \"created_time\": \"2024-02-09T05:35:12.267308Z\", \"created_time_dt\": \"2024-02-09T05:35:12.267308Z\", \"duration\": \"0:01:50\", \"iteration\": null, \"goal\": null, \"run_name\": \"Completed\", \"run_properties\": null}, {\"run_id\": \"AutoML_c8cfe321-8de0-4ede-9550-cbd201a5f3e7_13\", \"run_number\": 1707456913, \"metric\": null, \"status\": \"Completed\", \"run_type\": null, \"training_percent\": \"100\", \"start_time\": \"2024-02-09T05:36:00.548875Z\", \"end_time\": \"2024-02-09T05:36:16.797306Z\", \"created_time\": \"2024-02-09T05:35:13.003093Z\", \"created_time_dt\": \"2024-02-09T05:35:13.003093Z\", \"duration\": \"0:01:03\", \"iteration\": \"13\", \"goal\": \"accuracy_max\", \"run_name\": \"StandardScalerWrapper, KNN\", \"run_properties\": \"copy=True, with_mean=False, with_std=True\", \"primary_metric\": 0.71587571, \"best_metric\": 0.84282486}, {\"run_id\": \"AutoML_c8cfe321-8de0-4ede-9550-cbd201a5f3e7_worker_3\", \"run_number\": 1707456914, \"metric\": null, \"status\": \"Completed\", \"run_type\": \"azureml.scriptrun\", \"training_percent\": null, \"start_time\": \"2024-02-09T05:35:21.43607Z\", \"end_time\": \"2024-02-09T05:37:02.271381Z\", \"created_time\": \"2024-02-09T05:35:14.297096Z\", \"created_time_dt\": \"2024-02-09T05:35:14.297096Z\", \"duration\": \"0:01:47\", \"iteration\": null, \"goal\": null, \"run_name\": \"Completed\", \"run_properties\": null}, {\"run_id\": \"AutoML_c8cfe321-8de0-4ede-9550-cbd201a5f3e7_17\", \"run_number\": 1707456915, \"metric\": null, \"status\": \"Completed\", \"run_type\": null, \"training_percent\": \"100\", \"start_time\": \"2024-02-09T05:37:32.197891Z\", \"end_time\": \"2024-02-09T05:37:46.471187Z\", \"created_time\": \"2024-02-09T05:35:15.019408Z\", \"created_time_dt\": \"2024-02-09T05:35:15.019408Z\", \"duration\": \"0:02:31\", \"iteration\": \"17\", \"goal\": \"accuracy_max\", \"run_name\": \"MaxAbsScaler, LogisticRegression\", \"run_properties\": \"copy=True\", \"primary_metric\": 0.80610169, \"best_metric\": 0.84282486}, {\"run_id\": \"AutoML_c8cfe321-8de0-4ede-9550-cbd201a5f3e7_worker_4\", \"run_number\": 1707456916, \"metric\": null, \"status\": \"Completed\", \"run_type\": \"azureml.scriptrun\", \"training_percent\": null, \"start_time\": \"2024-02-09T05:37:00.030366Z\", \"end_time\": \"2024-02-09T05:38:29.294469Z\", \"created_time\": \"2024-02-09T05:35:16.158842Z\", \"created_time_dt\": \"2024-02-09T05:35:16.158842Z\", \"duration\": \"0:03:13\", \"iteration\": null, \"goal\": null, \"run_name\": \"Completed\", \"run_properties\": null}, {\"run_id\": \"AutoML_c8cfe321-8de0-4ede-9550-cbd201a5f3e7_23\", \"run_number\": 1707457055, \"metric\": null, \"status\": \"Completed\", \"run_type\": \"azureml.scriptrun\", \"training_percent\": \"100\", \"start_time\": \"2024-02-09T05:37:41.816098Z\", \"end_time\": \"2024-02-09T05:38:19.201891Z\", \"created_time\": \"2024-02-09T05:37:35.203155Z\", \"created_time_dt\": \"2024-02-09T05:37:35.203155Z\", \"duration\": \"0:00:43\", \"iteration\": \"23\", \"goal\": \"accuracy_max\", \"run_name\": \"StandardScalerWrapper, RandomForest\", \"run_properties\": \"copy=True, with_mean=False, with_std=False\", \"primary_metric\": 0.80937853, \"best_metric\": 0.84282486}, {\"run_id\": \"AutoML_c8cfe321-8de0-4ede-9550-cbd201a5f3e7_24\", \"run_number\": 1707457101, \"metric\": null, \"status\": \"Completed\", \"run_type\": \"azureml.scriptrun\", \"training_percent\": \"100\", \"start_time\": \"2024-02-09T05:38:31.457583Z\", \"end_time\": \"2024-02-09T05:39:10.909954Z\", \"created_time\": \"2024-02-09T05:38:21.603228Z\", \"created_time_dt\": \"2024-02-09T05:38:21.603228Z\", \"duration\": \"0:00:49\", \"iteration\": \"24\", \"goal\": \"accuracy_max\", \"run_name\": \"StandardScalerWrapper, XGBoostClassifier\", \"run_properties\": \"copy=True, with_mean=False, with_std=False\", \"primary_metric\": 0.82937853, \"best_metric\": 0.84282486}, {\"run_id\": \"AutoML_c8cfe321-8de0-4ede-9550-cbd201a5f3e7_26\", \"run_number\": 1707457139, \"metric\": null, \"status\": \"Completed\", \"run_type\": \"azureml.scriptrun\", \"training_percent\": \"100\", \"start_time\": \"2024-02-09T05:39:06.715795Z\", \"end_time\": \"2024-02-09T05:39:50.58723Z\", \"created_time\": \"2024-02-09T05:38:59.383688Z\", \"created_time_dt\": \"2024-02-09T05:38:59.383688Z\", \"duration\": \"0:00:51\", \"iteration\": \"26\", \"goal\": \"accuracy_max\", \"run_name\": \"RobustScaler, RandomForest\", \"run_properties\": \"copy=True, quantile_range=[10, 90], with_centering=True,\\n             with_scaling=True\", \"primary_metric\": 0.82254237, \"best_metric\": 0.84282486}, {\"run_id\": \"AutoML_c8cfe321-8de0-4ede-9550-cbd201a5f3e7_27\", \"run_number\": 1707457141, \"metric\": null, \"status\": \"Completed\", \"run_type\": \"azureml.scriptrun\", \"training_percent\": \"100\", \"start_time\": \"2024-02-09T05:39:09.079753Z\", \"end_time\": \"2024-02-09T05:39:54.231221Z\", \"created_time\": \"2024-02-09T05:39:01.796725Z\", \"created_time_dt\": \"2024-02-09T05:39:01.796725Z\", \"duration\": \"0:00:52\", \"iteration\": \"27\", \"goal\": \"accuracy_max\", \"run_name\": \"SparseNormalizer, XGBoostClassifier\", \"run_properties\": \"copy=True, norm='l1'\", \"primary_metric\": 0.84615819, \"best_metric\": 0.84615819}, {\"run_id\": \"AutoML_c8cfe321-8de0-4ede-9550-cbd201a5f3e7_28\", \"run_number\": 1707457143, \"metric\": null, \"status\": \"Completed\", \"run_type\": \"azureml.scriptrun\", \"training_percent\": \"100\", \"start_time\": \"2024-02-09T05:39:11.669173Z\", \"end_time\": \"2024-02-09T05:39:54.33746Z\", \"created_time\": \"2024-02-09T05:39:03.870504Z\", \"created_time_dt\": \"2024-02-09T05:39:03.870504Z\", \"duration\": \"0:00:50\", \"iteration\": \"28\", \"goal\": \"accuracy_max\", \"run_name\": \"RobustScaler, RandomForest\", \"run_properties\": \"copy=True, quantile_range=[25, 75], with_centering=True,\\n             with_scaling=True\", \"primary_metric\": 0.83937853, \"best_metric\": 0.84615819}, {\"run_id\": \"AutoML_c8cfe321-8de0-4ede-9550-cbd201a5f3e7_29\", \"run_number\": 1707457152, \"metric\": null, \"status\": \"Completed\", \"run_type\": \"azureml.scriptrun\", \"training_percent\": \"100\", \"start_time\": \"2024-02-09T05:39:51.447095Z\", \"end_time\": \"2024-02-09T05:40:35.930598Z\", \"created_time\": \"2024-02-09T05:39:12.286628Z\", \"created_time_dt\": \"2024-02-09T05:39:12.286628Z\", \"duration\": \"0:01:23\", \"iteration\": \"29\", \"goal\": \"accuracy_max\", \"run_name\": \"MinMaxScaler, LightGBM\", \"run_properties\": \"copy=True, feature_range=(0, 1\", \"primary_metric\": 0.8360452, \"best_metric\": 0.84615819}, {\"run_id\": \"AutoML_c8cfe321-8de0-4ede-9550-cbd201a5f3e7_30\", \"run_number\": 1707457193, \"metric\": null, \"status\": \"Completed\", \"run_type\": \"azureml.scriptrun\", \"training_percent\": \"100\", \"start_time\": \"2024-02-09T05:40:00.108119Z\", \"end_time\": \"2024-02-09T05:40:45.61808Z\", \"created_time\": \"2024-02-09T05:39:53.158085Z\", \"created_time_dt\": \"2024-02-09T05:39:53.158085Z\", \"duration\": \"0:00:52\", \"iteration\": \"30\", \"goal\": \"accuracy_max\", \"run_name\": \"RobustScaler, LightGBM\", \"run_properties\": \"copy=True, quantile_range=[25, 75], with_centering=True,\\n             with_scaling=False\", \"primary_metric\": 0.83271186, \"best_metric\": 0.84615819}, {\"run_id\": \"AutoML_c8cfe321-8de0-4ede-9550-cbd201a5f3e7_31\", \"run_number\": 1707457195, \"metric\": null, \"status\": \"Completed\", \"run_type\": \"azureml.scriptrun\", \"training_percent\": \"100\", \"start_time\": \"2024-02-09T05:40:02.531296Z\", \"end_time\": \"2024-02-09T05:40:46.952571Z\", \"created_time\": \"2024-02-09T05:39:55.357308Z\", \"created_time_dt\": \"2024-02-09T05:39:55.357308Z\", \"duration\": \"0:00:51\", \"iteration\": \"31\", \"goal\": \"accuracy_max\", \"run_name\": \"StandardScalerWrapper, XGBoostClassifier\", \"run_properties\": \"copy=True, with_mean=False, with_std=False\", \"primary_metric\": 0.82920904, \"best_metric\": 0.84615819}, {\"run_id\": \"AutoML_c8cfe321-8de0-4ede-9550-cbd201a5f3e7_33\", \"run_number\": 1707457197, \"metric\": null, \"status\": \"Completed\", \"run_type\": \"azureml.scriptrun\", \"training_percent\": \"100\", \"start_time\": \"2024-02-09T05:40:04.629179Z\", \"end_time\": \"2024-02-09T05:40:49.119079Z\", \"created_time\": \"2024-02-09T05:39:57.591972Z\", \"created_time_dt\": \"2024-02-09T05:39:57.591972Z\", \"duration\": \"0:00:51\", \"iteration\": \"33\", \"goal\": \"accuracy_max\", \"run_name\": \"StandardScalerWrapper, XGBoostClassifier\", \"run_properties\": \"copy=True, with_mean=False, with_std=False\", \"primary_metric\": 0.83932203, \"best_metric\": 0.84615819}, {\"run_id\": \"AutoML_c8cfe321-8de0-4ede-9550-cbd201a5f3e7_34\", \"run_number\": 1707457237, \"metric\": null, \"status\": \"Completed\", \"run_type\": \"azureml.scriptrun\", \"training_percent\": \"100\", \"start_time\": \"2024-02-09T05:40:46.380199Z\", \"end_time\": \"2024-02-09T05:41:32.393453Z\", \"created_time\": \"2024-02-09T05:40:37.464553Z\", \"created_time_dt\": \"2024-02-09T05:40:37.464553Z\", \"duration\": \"0:00:54\", \"iteration\": \"34\", \"goal\": \"accuracy_max\", \"run_name\": \"RobustScaler, RandomForest\", \"run_properties\": \"copy=True, quantile_range=[25, 75], with_centering=True,\\n             with_scaling=False\", \"primary_metric\": 0.82937853, \"best_metric\": 0.84615819}, {\"run_id\": \"AutoML_c8cfe321-8de0-4ede-9550-cbd201a5f3e7_35\", \"run_number\": 1707457248, \"metric\": null, \"status\": \"Completed\", \"run_type\": \"azureml.scriptrun\", \"training_percent\": \"100\", \"start_time\": \"2024-02-09T05:40:55.516928Z\", \"end_time\": \"2024-02-09T05:41:39.884458Z\", \"created_time\": \"2024-02-09T05:40:48.26952Z\", \"created_time_dt\": \"2024-02-09T05:40:48.26952Z\", \"duration\": \"0:00:51\", \"iteration\": \"35\", \"goal\": \"accuracy_max\", \"run_name\": \"PCA, XGBoostClassifier\", \"run_properties\": \"copy=True, iterated_power='auto', n_components=0.8015789473684211,\\n    random_state=None, svd_solver='auto', tol=0.0, whiten=False\", \"primary_metric\": 0.67909605, \"best_metric\": 0.84615819}, {\"run_id\": \"AutoML_c8cfe321-8de0-4ede-9550-cbd201a5f3e7_36\", \"run_number\": 1707457250, \"metric\": null, \"status\": \"Completed\", \"run_type\": \"azureml.scriptrun\", \"training_percent\": \"100\", \"start_time\": \"2024-02-09T05:40:57.926806Z\", \"end_time\": \"2024-02-09T05:41:42.005301Z\", \"created_time\": \"2024-02-09T05:40:50.584374Z\", \"created_time_dt\": \"2024-02-09T05:40:50.584374Z\", \"duration\": \"0:00:51\", \"iteration\": \"36\", \"goal\": \"accuracy_max\", \"run_name\": \"SparseNormalizer, LightGBM\", \"run_properties\": \"copy=True, norm='l1'\", \"primary_metric\": 0.85282486, \"best_metric\": 0.85282486}, {\"run_id\": \"AutoML_c8cfe321-8de0-4ede-9550-cbd201a5f3e7_38\", \"run_number\": 1707457283, \"metric\": null, \"status\": \"Completed\", \"run_type\": \"azureml.scriptrun\", \"training_percent\": \"100\", \"start_time\": \"2024-02-09T05:41:33.082422Z\", \"end_time\": \"2024-02-09T05:42:17.272763Z\", \"created_time\": \"2024-02-09T05:41:23.279304Z\", \"created_time_dt\": \"2024-02-09T05:41:23.279304Z\", \"duration\": \"0:00:53\", \"iteration\": \"38\", \"goal\": \"accuracy_max\", \"run_name\": \"SparseNormalizer, XGBoostClassifier\", \"run_properties\": \"copy=True, norm='l1'\", \"primary_metric\": 0.84627119, \"best_metric\": 0.85282486}, {\"run_id\": \"AutoML_c8cfe321-8de0-4ede-9550-cbd201a5f3e7_39\", \"run_number\": 1707457294, \"metric\": null, \"status\": \"Completed\", \"run_type\": \"azureml.scriptrun\", \"training_percent\": \"100\", \"start_time\": \"2024-02-09T05:41:42.902925Z\", \"end_time\": \"2024-02-09T05:42:32.196304Z\", \"created_time\": \"2024-02-09T05:41:34.263146Z\", \"created_time_dt\": \"2024-02-09T05:41:34.263146Z\", \"duration\": \"0:00:57\", \"iteration\": \"39\", \"goal\": \"accuracy_max\", \"run_name\": \"MinMaxScaler, LightGBM\", \"run_properties\": \"copy=True, feature_range=(0, 1\", \"primary_metric\": 0.82271186, \"best_metric\": 0.85282486}, {\"run_id\": \"AutoML_c8cfe321-8de0-4ede-9550-cbd201a5f3e7_40\", \"run_number\": 1707457302, \"metric\": null, \"status\": \"Completed\", \"run_type\": \"azureml.scriptrun\", \"training_percent\": \"100\", \"start_time\": \"2024-02-09T05:41:49.305833Z\", \"end_time\": \"2024-02-09T05:42:36.066773Z\", \"created_time\": \"2024-02-09T05:41:42.161366Z\", \"created_time_dt\": \"2024-02-09T05:41:42.161366Z\", \"duration\": \"0:00:53\", \"iteration\": \"40\", \"goal\": \"accuracy_max\", \"run_name\": \"SparseNormalizer, XGBoostClassifier\", \"run_properties\": \"copy=True, norm='l2'\", \"primary_metric\": 0.84288136, \"best_metric\": 0.85282486}, {\"run_id\": \"AutoML_c8cfe321-8de0-4ede-9550-cbd201a5f3e7_41\", \"run_number\": 1707457304, \"metric\": null, \"status\": \"Completed\", \"run_type\": \"azureml.scriptrun\", \"training_percent\": \"100\", \"start_time\": \"2024-02-09T05:42:09.056498Z\", \"end_time\": \"2024-02-09T05:42:55.132273Z\", \"created_time\": \"2024-02-09T05:41:44.372991Z\", \"created_time_dt\": \"2024-02-09T05:41:44.372991Z\", \"duration\": \"0:01:10\", \"iteration\": \"41\", \"goal\": \"accuracy_max\", \"run_name\": \"SparseNormalizer, XGBoostClassifier\", \"run_properties\": \"copy=True, norm='max'\", \"primary_metric\": 0.83288136, \"best_metric\": 0.85282486}, {\"run_id\": \"AutoML_c8cfe321-8de0-4ede-9550-cbd201a5f3e7_42\", \"run_number\": 1707457330, \"metric\": null, \"status\": \"Completed\", \"run_type\": \"azureml.scriptrun\", \"training_percent\": \"100\", \"start_time\": \"2024-02-09T05:42:17.957716Z\", \"end_time\": \"2024-02-09T05:43:04.432405Z\", \"created_time\": \"2024-02-09T05:42:10.135545Z\", \"created_time_dt\": \"2024-02-09T05:42:10.135545Z\", \"duration\": \"0:00:54\", \"iteration\": \"42\", \"goal\": \"accuracy_max\", \"run_name\": \"SparseNormalizer, XGBoostClassifier\", \"run_properties\": \"copy=True, norm='l2'\", \"primary_metric\": 0.83282486, \"best_metric\": 0.85282486}, {\"run_id\": \"AutoML_c8cfe321-8de0-4ede-9550-cbd201a5f3e7_43\", \"run_number\": 1707457338, \"metric\": null, \"status\": \"Completed\", \"run_type\": \"azureml.scriptrun\", \"training_percent\": \"100\", \"start_time\": \"2024-02-09T05:42:32.843326Z\", \"end_time\": \"2024-02-09T05:43:22.846784Z\", \"created_time\": \"2024-02-09T05:42:18.709023Z\", \"created_time_dt\": \"2024-02-09T05:42:18.709023Z\", \"duration\": \"0:01:04\", \"iteration\": \"43\", \"goal\": \"accuracy_max\", \"run_name\": \"RobustScaler, GradientBoosting\", \"run_properties\": \"copy=True, quantile_range=[25, 75], with_centering=True,\\n             with_scaling=False\", \"primary_metric\": 0.84271186, \"best_metric\": 0.85282486}, {\"run_id\": \"AutoML_c8cfe321-8de0-4ede-9550-cbd201a5f3e7_44\", \"run_number\": 1707457353, \"metric\": null, \"status\": \"Completed\", \"run_type\": \"azureml.scriptrun\", \"training_percent\": \"100\", \"start_time\": \"2024-02-09T05:42:40.763379Z\", \"end_time\": \"2024-02-09T05:43:27.970888Z\", \"created_time\": \"2024-02-09T05:42:33.714185Z\", \"created_time_dt\": \"2024-02-09T05:42:33.714185Z\", \"duration\": \"0:00:54\", \"iteration\": \"44\", \"goal\": \"accuracy_max\", \"run_name\": \"SparseNormalizer, XGBoostClassifier\", \"run_properties\": \"copy=True, norm='l2'\", \"primary_metric\": 0.81954802, \"best_metric\": 0.85282486}, {\"run_id\": \"AutoML_c8cfe321-8de0-4ede-9550-cbd201a5f3e7_45\", \"run_number\": 1707457358, \"metric\": null, \"status\": \"Completed\", \"run_type\": \"azureml.scriptrun\", \"training_percent\": \"100\", \"start_time\": \"2024-02-09T05:42:56.040372Z\", \"end_time\": \"2024-02-09T05:43:43.838964Z\", \"created_time\": \"2024-02-09T05:42:38.905547Z\", \"created_time_dt\": \"2024-02-09T05:42:38.905547Z\", \"duration\": \"0:01:04\", \"iteration\": \"45\", \"goal\": \"accuracy_max\", \"run_name\": \"SparseNormalizer, LightGBM\", \"run_properties\": \"copy=True, norm='l1'\", \"primary_metric\": 0.84954802, \"best_metric\": 0.85282486}, {\"run_id\": \"AutoML_c8cfe321-8de0-4ede-9550-cbd201a5f3e7_46\", \"run_number\": 1707457376, \"metric\": null, \"status\": \"Completed\", \"run_type\": \"azureml.scriptrun\", \"training_percent\": \"100\", \"start_time\": \"2024-02-09T05:43:05.256476Z\", \"end_time\": \"2024-02-09T05:43:52.630654Z\", \"created_time\": \"2024-02-09T05:42:56.601024Z\", \"created_time_dt\": \"2024-02-09T05:42:56.601024Z\", \"duration\": \"0:00:56\", \"iteration\": \"46\", \"goal\": \"accuracy_max\", \"run_name\": \"StandardScalerWrapper, RandomForest\", \"run_properties\": \"copy=True, with_mean=False, with_std=False\", \"primary_metric\": 0.7759322, \"best_metric\": 0.85282486}, {\"run_id\": \"AutoML_c8cfe321-8de0-4ede-9550-cbd201a5f3e7_47\", \"run_number\": 1707457386, \"metric\": null, \"status\": \"Completed\", \"run_type\": \"azureml.scriptrun\", \"training_percent\": \"100\", \"start_time\": \"2024-02-09T05:43:23.564874Z\", \"end_time\": \"2024-02-09T05:44:17.490684Z\", \"created_time\": \"2024-02-09T05:43:06.027842Z\", \"created_time_dt\": \"2024-02-09T05:43:06.027842Z\", \"duration\": \"0:01:11\", \"iteration\": \"47\", \"goal\": \"accuracy_max\", \"run_name\": \"StandardScalerWrapper, ExtremeRandomTrees\", \"run_properties\": \"copy=True, with_mean=False, with_std=True\", \"primary_metric\": 0.82937853, \"best_metric\": 0.85282486}, {\"run_id\": \"AutoML_c8cfe321-8de0-4ede-9550-cbd201a5f3e7_48\", \"run_number\": 1707457404, \"metric\": null, \"status\": \"Completed\", \"run_type\": \"azureml.scriptrun\", \"training_percent\": \"100\", \"start_time\": \"2024-02-09T05:43:30.852956Z\", \"end_time\": \"2024-02-09T05:44:18.621834Z\", \"created_time\": \"2024-02-09T05:43:24.429161Z\", \"created_time_dt\": \"2024-02-09T05:43:24.429161Z\", \"duration\": \"0:00:54\", \"iteration\": \"48\", \"goal\": \"accuracy_max\", \"run_name\": \"StandardScalerWrapper, XGBoostClassifier\", \"run_properties\": \"copy=True, with_mean=False, with_std=False\", \"primary_metric\": 0.82242938, \"best_metric\": 0.85282486}, {\"run_id\": \"AutoML_c8cfe321-8de0-4ede-9550-cbd201a5f3e7_49\", \"run_number\": 1707457409, \"metric\": null, \"status\": \"Completed\", \"run_type\": \"azureml.scriptrun\", \"training_percent\": \"100\", \"start_time\": \"2024-02-09T05:43:44.520847Z\", \"end_time\": \"2024-02-09T05:44:32.382258Z\", \"created_time\": \"2024-02-09T05:43:29.631031Z\", \"created_time_dt\": \"2024-02-09T05:43:29.631031Z\", \"duration\": \"0:01:02\", \"iteration\": \"49\", \"goal\": \"accuracy_max\", \"run_name\": \"MaxAbsScaler, RandomForest\", \"run_properties\": \"copy=True\", \"primary_metric\": 0.83259887, \"best_metric\": 0.85282486}, {\"run_id\": \"AutoML_c8cfe321-8de0-4ede-9550-cbd201a5f3e7_50\", \"run_number\": 1707457426, \"metric\": null, \"status\": \"Completed\", \"run_type\": \"azureml.scriptrun\", \"training_percent\": \"100\", \"start_time\": \"2024-02-09T05:43:53.507776Z\", \"end_time\": \"2024-02-09T05:44:39.848295Z\", \"created_time\": \"2024-02-09T05:43:46.10625Z\", \"created_time_dt\": \"2024-02-09T05:43:46.10625Z\", \"duration\": \"0:00:53\", \"iteration\": \"50\", \"goal\": \"accuracy_max\", \"run_name\": \"MaxAbsScaler, LightGBM\", \"run_properties\": \"copy=True\", \"primary_metric\": 0.7359322, \"best_metric\": 0.85282486}, {\"run_id\": \"AutoML_c8cfe321-8de0-4ede-9550-cbd201a5f3e7_51\", \"run_number\": 1707457434, \"metric\": null, \"status\": \"Canceled\", \"run_type\": \"azureml.scriptrun\", \"training_percent\": \"100\", \"start_time\": \"2024-02-09T05:44:18.5591Z\", \"end_time\": \"2024-02-09T05:44:46.016502Z\", \"created_time\": \"2024-02-09T05:43:54.217828Z\", \"created_time_dt\": \"2024-02-09T05:43:54.217828Z\", \"duration\": \"0:00:51\", \"iteration\": \"51\", \"goal\": null, \"run_name\": \"SparseNormalizer, XGBoostClassifier\", \"run_properties\": null}, {\"run_id\": \"AutoML_c8cfe321-8de0-4ede-9550-cbd201a5f3e7_52\", \"run_number\": 1707457459, \"metric\": null, \"status\": \"Canceled\", \"run_type\": \"azureml.scriptrun\", \"training_percent\": \"100\", \"start_time\": \"2024-02-09T05:44:26.149627Z\", \"end_time\": \"2024-02-09T05:45:13.653838Z\", \"created_time\": \"2024-02-09T05:44:19.19065Z\", \"created_time_dt\": \"2024-02-09T05:44:19.19065Z\", \"duration\": \"0:00:54\", \"iteration\": \"52\", \"goal\": null, \"run_name\": \"Canceled\", \"run_properties\": null}, {\"run_id\": \"AutoML_c8cfe321-8de0-4ede-9550-cbd201a5f3e7_53\", \"run_number\": 1707457461, \"metric\": null, \"status\": \"Canceled\", \"run_type\": \"azureml.scriptrun\", \"training_percent\": \"100\", \"start_time\": \"2024-02-09T05:44:33.214797Z\", \"end_time\": \"2024-02-09T05:45:13.572924Z\", \"created_time\": \"2024-02-09T05:44:21.611593Z\", \"created_time_dt\": \"2024-02-09T05:44:21.611593Z\", \"duration\": \"0:00:51\", \"iteration\": \"53\", \"goal\": null, \"run_name\": \"Canceled\", \"run_properties\": null}, {\"run_id\": \"AutoML_c8cfe321-8de0-4ede-9550-cbd201a5f3e7_54\", \"run_number\": 1707457474, \"metric\": null, \"status\": \"Canceled\", \"run_type\": \"azureml.scriptrun\", \"training_percent\": \"100\", \"start_time\": \"2024-02-09T05:44:40.543026Z\", \"end_time\": \"2024-02-09T05:45:15.94413Z\", \"created_time\": \"2024-02-09T05:44:34.329973Z\", \"created_time_dt\": \"2024-02-09T05:44:34.329973Z\", \"duration\": \"0:00:41\", \"iteration\": \"54\", \"goal\": null, \"run_name\": \"Canceled\", \"run_properties\": null}, {\"run_id\": \"AutoML_c8cfe321-8de0-4ede-9550-cbd201a5f3e7_56\", \"run_number\": 1707457516, \"metric\": null, \"status\": \"Completed\", \"run_type\": \"azureml.scriptrun\", \"training_percent\": \"100\", \"start_time\": \"2024-02-09T05:45:23.009049Z\", \"end_time\": \"2024-02-09T05:46:53.051547Z\", \"created_time\": \"2024-02-09T05:45:16.507217Z\", \"created_time_dt\": \"2024-02-09T05:45:16.507217Z\", \"duration\": \"0:01:36\", \"iteration\": \"56\", \"goal\": \"accuracy_max\", \"run_name\": \"StackEnsemble\", \"run_properties\": \"base_learners=[('36', Pipeline(memory=None, steps=[('sparsenormalizer', Normalizer(copy=True, norm='l1'\", \"primary_metric\": 0.86960452, \"best_metric\": 0.86960452}], \"children_metrics\": {\"categories\": [0], \"series\": {\"precision_score_micro\": [{\"categories\": [\"0\", \"4\", \"8\", \"10\", \"13\", \"17\", \"23\", \"24\", \"26\", \"27\", \"28\", \"29\", \"30\", \"31\", \"33\", \"34\", \"35\", \"36\", \"38\", \"39\", \"40\", \"41\", \"42\", \"43\", \"44\", \"45\", \"46\", \"47\", \"48\", \"49\", \"50\", \"56\"], \"mode\": \"markers\", \"name\": \"precision_score_micro\", \"stepped\": false, \"type\": \"scatter\", \"data\": [0.8428248587570621, 0.6019209039548021, 0.6019209039548024, 0.8091525423728815, 0.7158757062146892, 0.8061016949152542, 0.8093785310734465, 0.8293785310734464, 0.822542372881356, 0.8461581920903957, 0.8393785310734463, 0.836045197740113, 0.8327118644067797, 0.8292090395480226, 0.8393220338983051, 0.8293785310734464, 0.67909604519774, 0.8528248587570622, 0.846271186440678, 0.8227118644067797, 0.8428813559322034, 0.8328813559322035, 0.8328248587570621, 0.8427118644067797, 0.8195480225988702, 0.8495480225988701, 0.7759322033898306, 0.8293785310734464, 0.8224293785310735, 0.8325988700564972, 0.7359322033898306, 0.8696045197740112]}, {\"categories\": [\"0\", \"4\", \"8\", \"10\", \"13\", \"17\", \"23\", \"24\", \"26\", \"27\", \"28\", \"29\", \"30\", \"31\", \"33\", \"34\", \"35\", \"36\", \"38\", \"39\", \"40\", \"41\", \"42\", \"43\", \"44\", \"45\", \"46\", \"47\", \"48\", \"49\", \"50\", \"56\"], \"mode\": \"lines\", \"name\": \"precision_score_micro_max\", \"stepped\": true, \"type\": \"scatter\", \"data\": [0.8428248587570621, 0.8428248587570621, 0.8428248587570621, 0.8428248587570621, 0.8428248587570621, 0.8428248587570621, 0.8428248587570621, 0.8428248587570621, 0.8428248587570621, 0.8461581920903957, 0.8461581920903957, 0.8461581920903957, 0.8461581920903957, 0.8461581920903957, 0.8461581920903957, 0.8461581920903957, 0.8461581920903957, 0.8528248587570622, 0.8528248587570622, 0.8528248587570622, 0.8528248587570622, 0.8528248587570622, 0.8528248587570622, 0.8528248587570622, 0.8528248587570622, 0.8528248587570622, 0.8528248587570622, 0.8528248587570622, 0.8528248587570622, 0.8528248587570622, 0.8528248587570622, 0.8696045197740112]}], \"recall_score_macro\": [{\"categories\": [\"0\", \"4\", \"8\", \"10\", \"13\", \"17\", \"23\", \"24\", \"26\", \"27\", \"28\", \"29\", \"30\", \"31\", \"33\", \"34\", \"35\", \"36\", \"38\", \"39\", \"40\", \"41\", \"42\", \"43\", \"44\", \"45\", \"46\", \"47\", \"48\", \"49\", \"50\", \"56\"], \"mode\": \"markers\", \"name\": \"recall_score_macro\", \"stepped\": false, \"type\": \"scatter\", \"data\": [0.8149916943521595, 0.535265088593577, 0.5238067552602437, 0.772296511627907, 0.5642857142857143, 0.7737375415282393, 0.7371345514950167, 0.8053066168327797, 0.8001792635658914, 0.8176661129568107, 0.8109018549280178, 0.797751245847176, 0.8066756644518274, 0.8064887873754152, 0.8169137596899224, 0.7933423311184938, 0.5, 0.824094684385382, 0.8043410852713178, 0.7658803986710964, 0.810765503875969, 0.804094684385382, 0.8040310077519379, 0.8184655315614616, 0.7822238372093022, 0.8128827519379845, 0.7502090254706534, 0.8078702934662237, 0.8001114341085271, 0.8164887873754154, 0.6100595238095238, 0.8372619047619047]}, {\"categories\": [\"0\", \"4\", \"8\", \"10\", \"13\", \"17\", \"23\", \"24\", \"26\", \"27\", \"28\", \"29\", \"30\", \"31\", \"33\", \"34\", \"35\", \"36\", \"38\", \"39\", \"40\", \"41\", \"42\", \"43\", \"44\", \"45\", \"46\", \"47\", \"48\", \"49\", \"50\", \"56\"], \"mode\": \"lines\", \"name\": \"recall_score_macro_max\", \"stepped\": true, \"type\": \"scatter\", \"data\": [0.8149916943521595, 0.8149916943521595, 0.8149916943521595, 0.8149916943521595, 0.8149916943521595, 0.8149916943521595, 0.8149916943521595, 0.8149916943521595, 0.8149916943521595, 0.8176661129568107, 0.8176661129568107, 0.8176661129568107, 0.8176661129568107, 0.8176661129568107, 0.8176661129568107, 0.8176661129568107, 0.8176661129568107, 0.824094684385382, 0.824094684385382, 0.824094684385382, 0.824094684385382, 0.824094684385382, 0.824094684385382, 0.824094684385382, 0.824094684385382, 0.824094684385382, 0.824094684385382, 0.824094684385382, 0.824094684385382, 0.824094684385382, 0.824094684385382, 0.8372619047619047]}], \"average_precision_score_weighted\": [{\"categories\": [\"0\", \"4\", \"8\", \"10\", \"13\", \"17\", \"23\", \"24\", \"26\", \"27\", \"28\", \"29\", \"30\", \"31\", \"33\", \"34\", \"35\", \"36\", \"38\", \"39\", \"40\", \"41\", \"42\", \"43\", \"44\", \"45\", \"46\", \"47\", \"48\", \"49\", \"50\", \"56\"], \"mode\": \"markers\", \"name\": \"average_precision_score_weighted\", \"stepped\": false, \"type\": \"scatter\", \"data\": [0.9092107718745325, 0.5926471514879754, 0.6075952078012811, 0.8848989790310146, 0.8482727636687125, 0.8909926242029712, 0.8949425496509346, 0.9139469925901326, 0.8964621860537181, 0.8984810783752275, 0.9160678927307915, 0.8959890141114639, 0.9099628137012928, 0.9048420521214122, 0.9189109653723474, 0.9153220468561983, 0.5796089246385138, 0.9122191464901139, 0.9096691998395968, 0.9158977618856665, 0.9031157186422913, 0.9076699800543967, 0.887067378203569, 0.9327488156388357, 0.8724463141922353, 0.8972688689577801, 0.8849537017318623, 0.9051853693803542, 0.9138651797957043, 0.9120910719320241, 0.8763424762219035, 0.9306263624602942]}, {\"categories\": [\"0\", \"4\", \"8\", \"10\", \"13\", \"17\", \"23\", \"24\", \"26\", \"27\", \"28\", \"29\", \"30\", \"31\", \"33\", \"34\", \"35\", \"36\", \"38\", \"39\", \"40\", \"41\", \"42\", \"43\", \"44\", \"45\", \"46\", \"47\", \"48\", \"49\", \"50\", \"56\"], \"mode\": \"lines\", \"name\": \"average_precision_score_weighted_max\", \"stepped\": true, \"type\": \"scatter\", \"data\": [0.9092107718745325, 0.9092107718745325, 0.9092107718745325, 0.9092107718745325, 0.9092107718745325, 0.9092107718745325, 0.9092107718745325, 0.9139469925901326, 0.9139469925901326, 0.9139469925901326, 0.9160678927307915, 0.9160678927307915, 0.9160678927307915, 0.9160678927307915, 0.9189109653723474, 0.9189109653723474, 0.9189109653723474, 0.9189109653723474, 0.9189109653723474, 0.9189109653723474, 0.9189109653723474, 0.9189109653723474, 0.9189109653723474, 0.9327488156388357, 0.9327488156388357, 0.9327488156388357, 0.9327488156388357, 0.9327488156388357, 0.9327488156388357, 0.9327488156388357, 0.9327488156388357, 0.9327488156388357]}], \"f1_score_weighted\": [{\"categories\": [\"0\", \"4\", \"8\", \"10\", \"13\", \"17\", \"23\", \"24\", \"26\", \"27\", \"28\", \"29\", \"30\", \"31\", \"33\", \"34\", \"35\", \"36\", \"38\", \"39\", \"40\", \"41\", \"42\", \"43\", \"44\", \"45\", \"46\", \"47\", \"48\", \"49\", \"50\", \"56\"], \"mode\": \"markers\", \"name\": \"f1_score_weighted\", \"stepped\": false, \"type\": \"scatter\", \"data\": [0.8401132576354581, 0.5910605032905336, 0.5857212369079046, 0.8051394033601141, 0.6381779049705767, 0.7983360665860388, 0.7946786543789914, 0.828232403292783, 0.8208231046201261, 0.8435301496520001, 0.8365341474006183, 0.829975741523706, 0.8288641881135785, 0.8281142223085245, 0.8365072247603381, 0.8246567233746624, 0.5526564268547016, 0.8493415970157724, 0.8406328405645043, 0.8127164260033556, 0.8385006039487994, 0.830237424110247, 0.8298272023067655, 0.8406047020914432, 0.8155883595962721, 0.8440563932379102, 0.7764186447594358, 0.8288580509874901, 0.8210994306982643, 0.8331129502088779, 0.6746328950831908, 0.8632413939753333]}, {\"categories\": [\"0\", \"4\", \"8\", \"10\", \"13\", \"17\", \"23\", \"24\", \"26\", \"27\", \"28\", \"29\", \"30\", \"31\", \"33\", \"34\", \"35\", \"36\", \"38\", \"39\", \"40\", \"41\", \"42\", \"43\", \"44\", \"45\", \"46\", \"47\", \"48\", \"49\", \"50\", \"56\"], \"mode\": \"lines\", \"name\": \"f1_score_weighted_max\", \"stepped\": true, \"type\": \"scatter\", \"data\": [0.8401132576354581, 0.8401132576354581, 0.8401132576354581, 0.8401132576354581, 0.8401132576354581, 0.8401132576354581, 0.8401132576354581, 0.8401132576354581, 0.8401132576354581, 0.8435301496520001, 0.8435301496520001, 0.8435301496520001, 0.8435301496520001, 0.8435301496520001, 0.8435301496520001, 0.8435301496520001, 0.8435301496520001, 0.8493415970157724, 0.8493415970157724, 0.8493415970157724, 0.8493415970157724, 0.8493415970157724, 0.8493415970157724, 0.8493415970157724, 0.8493415970157724, 0.8493415970157724, 0.8493415970157724, 0.8493415970157724, 0.8493415970157724, 0.8493415970157724, 0.8493415970157724, 0.8632413939753333]}], \"balanced_accuracy\": [{\"categories\": [\"0\", \"4\", \"8\", \"10\", \"13\", \"17\", \"23\", \"24\", \"26\", \"27\", \"28\", \"29\", \"30\", \"31\", \"33\", \"34\", \"35\", \"36\", \"38\", \"39\", \"40\", \"41\", \"42\", \"43\", \"44\", \"45\", \"46\", \"47\", \"48\", \"49\", \"50\", \"56\"], \"mode\": \"markers\", \"name\": \"balanced_accuracy\", \"stepped\": false, \"type\": \"scatter\", \"data\": [0.8149916943521595, 0.535265088593577, 0.5238067552602437, 0.772296511627907, 0.5642857142857143, 0.7737375415282393, 0.7371345514950167, 0.8053066168327797, 0.8001792635658914, 0.8176661129568107, 0.8109018549280178, 0.797751245847176, 0.8066756644518274, 0.8064887873754152, 0.8169137596899224, 0.7933423311184938, 0.5, 0.824094684385382, 0.8043410852713178, 0.7658803986710964, 0.810765503875969, 0.804094684385382, 0.8040310077519379, 0.8184655315614616, 0.7822238372093022, 0.8128827519379845, 0.7502090254706534, 0.8078702934662237, 0.8001114341085271, 0.8164887873754154, 0.6100595238095238, 0.8372619047619047]}, {\"categories\": [\"0\", \"4\", \"8\", \"10\", \"13\", \"17\", \"23\", \"24\", \"26\", \"27\", \"28\", \"29\", \"30\", \"31\", \"33\", \"34\", \"35\", \"36\", \"38\", \"39\", \"40\", \"41\", \"42\", \"43\", \"44\", \"45\", \"46\", \"47\", \"48\", \"49\", \"50\", \"56\"], \"mode\": \"lines\", \"name\": \"balanced_accuracy_max\", \"stepped\": true, \"type\": \"scatter\", \"data\": [0.8149916943521595, 0.8149916943521595, 0.8149916943521595, 0.8149916943521595, 0.8149916943521595, 0.8149916943521595, 0.8149916943521595, 0.8149916943521595, 0.8149916943521595, 0.8176661129568107, 0.8176661129568107, 0.8176661129568107, 0.8176661129568107, 0.8176661129568107, 0.8176661129568107, 0.8176661129568107, 0.8176661129568107, 0.824094684385382, 0.824094684385382, 0.824094684385382, 0.824094684385382, 0.824094684385382, 0.824094684385382, 0.824094684385382, 0.824094684385382, 0.824094684385382, 0.824094684385382, 0.824094684385382, 0.824094684385382, 0.824094684385382, 0.824094684385382, 0.8372619047619047]}], \"AUC_micro\": [{\"categories\": [\"0\", \"4\", \"8\", \"10\", \"13\", \"17\", \"23\", \"24\", \"26\", \"27\", \"28\", \"29\", \"30\", \"31\", \"33\", \"34\", \"35\", \"36\", \"38\", \"39\", \"40\", \"41\", \"42\", \"43\", \"44\", \"45\", \"46\", \"47\", \"48\", \"49\", \"50\", \"56\"], \"mode\": \"markers\", \"name\": \"AUC_micro\", \"stepped\": false, \"type\": \"scatter\", \"data\": [0.897662453318012, 0.5968729451945481, 0.6208648536499728, 0.8804269526636663, 0.8211999904242075, 0.8829535254875674, 0.8843186823709661, 0.9064312138912829, 0.8979267052890293, 0.9004017523700087, 0.9107911360081713, 0.8909611222828688, 0.8996914200900126, 0.8973395735580454, 0.9087502952535988, 0.909963979060934, 0.6790960451977401, 0.9075532254460723, 0.9054549299371188, 0.90259692297871, 0.8992065977209615, 0.902602125825912, 0.8885864694053434, 0.9208143892240415, 0.8834046091480736, 0.8927179929139136, 0.8766862012831561, 0.900014778639599, 0.902975853043506, 0.8953675987104599, 0.8408049091895687, 0.9115104854926745]}, {\"categories\": [\"0\", \"4\", \"8\", \"10\", \"13\", \"17\", \"23\", \"24\", \"26\", \"27\", \"28\", \"29\", \"30\", \"31\", \"33\", \"34\", \"35\", \"36\", \"38\", \"39\", \"40\", \"41\", \"42\", \"43\", \"44\", \"45\", \"46\", \"47\", \"48\", \"49\", \"50\", \"56\"], \"mode\": \"lines\", \"name\": \"AUC_micro_max\", \"stepped\": true, \"type\": \"scatter\", \"data\": [0.897662453318012, 0.897662453318012, 0.897662453318012, 0.897662453318012, 0.897662453318012, 0.897662453318012, 0.897662453318012, 0.9064312138912829, 0.9064312138912829, 0.9064312138912829, 0.9107911360081713, 0.9107911360081713, 0.9107911360081713, 0.9107911360081713, 0.9107911360081713, 0.9107911360081713, 0.9107911360081713, 0.9107911360081713, 0.9107911360081713, 0.9107911360081713, 0.9107911360081713, 0.9107911360081713, 0.9107911360081713, 0.9208143892240415, 0.9208143892240415, 0.9208143892240415, 0.9208143892240415, 0.9208143892240415, 0.9208143892240415, 0.9208143892240415, 0.9208143892240415, 0.9208143892240415]}], \"accuracy\": [{\"categories\": [\"0\", \"4\", \"8\", \"10\", \"13\", \"17\", \"23\", \"24\", \"26\", \"27\", \"28\", \"29\", \"30\", \"31\", \"33\", \"34\", \"35\", \"36\", \"38\", \"39\", \"40\", \"41\", \"42\", \"43\", \"44\", \"45\", \"46\", \"47\", \"48\", \"49\", \"50\", \"56\"], \"mode\": \"markers\", \"name\": \"accuracy\", \"stepped\": false, \"type\": \"scatter\", \"data\": [0.8428248587570621, 0.6019209039548021, 0.6019209039548024, 0.8091525423728815, 0.7158757062146892, 0.8061016949152542, 0.8093785310734465, 0.8293785310734464, 0.822542372881356, 0.8461581920903957, 0.8393785310734463, 0.836045197740113, 0.8327118644067797, 0.8292090395480226, 0.8393220338983051, 0.8293785310734464, 0.67909604519774, 0.8528248587570622, 0.846271186440678, 0.8227118644067797, 0.8428813559322034, 0.8328813559322035, 0.8328248587570621, 0.8427118644067797, 0.8195480225988702, 0.8495480225988701, 0.7759322033898306, 0.8293785310734464, 0.8224293785310735, 0.8325988700564972, 0.7359322033898306, 0.8696045197740112]}, {\"categories\": [\"0\", \"4\", \"8\", \"10\", \"13\", \"17\", \"23\", \"24\", \"26\", \"27\", \"28\", \"29\", \"30\", \"31\", \"33\", \"34\", \"35\", \"36\", \"38\", \"39\", \"40\", \"41\", \"42\", \"43\", \"44\", \"45\", \"46\", \"47\", \"48\", \"49\", \"50\", \"56\"], \"mode\": \"lines\", \"name\": \"accuracy_max\", \"stepped\": true, \"type\": \"scatter\", \"data\": [0.8428248587570621, 0.8428248587570621, 0.8428248587570621, 0.8428248587570621, 0.8428248587570621, 0.8428248587570621, 0.8428248587570621, 0.8428248587570621, 0.8428248587570621, 0.8461581920903957, 0.8461581920903957, 0.8461581920903957, 0.8461581920903957, 0.8461581920903957, 0.8461581920903957, 0.8461581920903957, 0.8461581920903957, 0.8528248587570622, 0.8528248587570622, 0.8528248587570622, 0.8528248587570622, 0.8528248587570622, 0.8528248587570622, 0.8528248587570622, 0.8528248587570622, 0.8528248587570622, 0.8528248587570622, 0.8528248587570622, 0.8528248587570622, 0.8528248587570622, 0.8528248587570622, 0.8696045197740112]}], \"f1_score_micro\": [{\"categories\": [\"0\", \"4\", \"8\", \"10\", \"13\", \"17\", \"23\", \"24\", \"26\", \"27\", \"28\", \"29\", \"30\", \"31\", \"33\", \"34\", \"35\", \"36\", \"38\", \"39\", \"40\", \"41\", \"42\", \"43\", \"44\", \"45\", \"46\", \"47\", \"48\", \"49\", \"50\", \"56\"], \"mode\": \"markers\", \"name\": \"f1_score_micro\", \"stepped\": false, \"type\": \"scatter\", \"data\": [0.8428248587570621, 0.6019209039548021, 0.6019209039548024, 0.8091525423728815, 0.7158757062146893, 0.8061016949152542, 0.8093785310734465, 0.8293785310734464, 0.822542372881356, 0.8461581920903957, 0.8393785310734463, 0.836045197740113, 0.8327118644067797, 0.8292090395480226, 0.8393220338983051, 0.8293785310734464, 0.67909604519774, 0.8528248587570622, 0.846271186440678, 0.8227118644067797, 0.8428813559322034, 0.8328813559322035, 0.8328248587570621, 0.8427118644067797, 0.8195480225988702, 0.8495480225988701, 0.7759322033898306, 0.8293785310734464, 0.8224293785310735, 0.8325988700564972, 0.7359322033898306, 0.8696045197740112]}, {\"categories\": [\"0\", \"4\", \"8\", \"10\", \"13\", \"17\", \"23\", \"24\", \"26\", \"27\", \"28\", \"29\", \"30\", \"31\", \"33\", \"34\", \"35\", \"36\", \"38\", \"39\", \"40\", \"41\", \"42\", \"43\", \"44\", \"45\", \"46\", \"47\", \"48\", \"49\", \"50\", \"56\"], \"mode\": \"lines\", \"name\": \"f1_score_micro_max\", \"stepped\": true, \"type\": \"scatter\", \"data\": [0.8428248587570621, 0.8428248587570621, 0.8428248587570621, 0.8428248587570621, 0.8428248587570621, 0.8428248587570621, 0.8428248587570621, 0.8428248587570621, 0.8428248587570621, 0.8461581920903957, 0.8461581920903957, 0.8461581920903957, 0.8461581920903957, 0.8461581920903957, 0.8461581920903957, 0.8461581920903957, 0.8461581920903957, 0.8528248587570622, 0.8528248587570622, 0.8528248587570622, 0.8528248587570622, 0.8528248587570622, 0.8528248587570622, 0.8528248587570622, 0.8528248587570622, 0.8528248587570622, 0.8528248587570622, 0.8528248587570622, 0.8528248587570622, 0.8528248587570622, 0.8528248587570622, 0.8696045197740112]}], \"average_precision_score_micro\": [{\"categories\": [\"0\", \"4\", \"8\", \"10\", \"13\", \"17\", \"23\", \"24\", \"26\", \"27\", \"28\", \"29\", \"30\", \"31\", \"33\", \"34\", \"35\", \"36\", \"38\", \"39\", \"40\", \"41\", \"42\", \"43\", \"44\", \"45\", \"46\", \"47\", \"48\", \"49\", \"50\", \"56\"], \"mode\": \"markers\", \"name\": \"average_precision_score_micro\", \"stepped\": false, \"type\": \"scatter\", \"data\": [0.9006531196119575, 0.5891536084427456, 0.6167779029691036, 0.880931148420539, 0.8290316423852235, 0.8838790578102869, 0.8875404574923659, 0.9076890811500663, 0.8933394111965033, 0.8968149090611744, 0.9130532697493237, 0.8901945382085511, 0.9016361476209456, 0.896743320129026, 0.9137941696914865, 0.9114639148630868, 0.6293524849181271, 0.9097561539789296, 0.9035892703502066, 0.9051503745874111, 0.8981599727584317, 0.901122903446048, 0.8866981070824103, 0.9245566240928536, 0.8752439203198261, 0.8930016265123996, 0.8747239238106745, 0.8995182047837421, 0.9060204608640084, 0.8933904222606059, 0.8511884867261325, 0.9089210417428578]}, {\"categories\": [\"0\", \"4\", \"8\", \"10\", \"13\", \"17\", \"23\", \"24\", \"26\", \"27\", \"28\", \"29\", \"30\", \"31\", \"33\", \"34\", \"35\", \"36\", \"38\", \"39\", \"40\", \"41\", \"42\", \"43\", \"44\", \"45\", \"46\", \"47\", \"48\", \"49\", \"50\", \"56\"], \"mode\": \"lines\", \"name\": \"average_precision_score_micro_max\", \"stepped\": true, \"type\": \"scatter\", \"data\": [0.9006531196119575, 0.9006531196119575, 0.9006531196119575, 0.9006531196119575, 0.9006531196119575, 0.9006531196119575, 0.9006531196119575, 0.9076890811500663, 0.9076890811500663, 0.9076890811500663, 0.9130532697493237, 0.9130532697493237, 0.9130532697493237, 0.9130532697493237, 0.9137941696914865, 0.9137941696914865, 0.9137941696914865, 0.9137941696914865, 0.9137941696914865, 0.9137941696914865, 0.9137941696914865, 0.9137941696914865, 0.9137941696914865, 0.9245566240928536, 0.9245566240928536, 0.9245566240928536, 0.9245566240928536, 0.9245566240928536, 0.9245566240928536, 0.9245566240928536, 0.9245566240928536, 0.9245566240928536]}], \"f1_score_macro\": [{\"categories\": [\"0\", \"4\", \"8\", \"10\", \"13\", \"17\", \"23\", \"24\", \"26\", \"27\", \"28\", \"29\", \"30\", \"31\", \"33\", \"34\", \"35\", \"36\", \"38\", \"39\", \"40\", \"41\", \"42\", \"43\", \"44\", \"45\", \"46\", \"47\", \"48\", \"49\", \"50\", \"56\"], \"mode\": \"markers\", \"name\": \"f1_score_macro\", \"stepped\": false, \"type\": \"scatter\", \"data\": [0.8120777859845001, 0.5214762486938819, 0.5107143040124967, 0.7663110546964017, 0.5277866879799389, 0.7638066281867016, 0.7514751306275658, 0.7982413770467163, 0.7890355797724352, 0.8154874303580663, 0.8088383997633205, 0.799086693661103, 0.8003772170765784, 0.7981007720219744, 0.8072426792227991, 0.7928992078826912, 0.40276783177038933, 0.8221648224238862, 0.8104116534822567, 0.7755827198115846, 0.8094960944713522, 0.7992490836340332, 0.7992429231820517, 0.8121047173824134, 0.7816537780158546, 0.8168170254940073, 0.7386234414362788, 0.7979830090245463, 0.7901817868044718, 0.8030465838415978, 0.5951172205988204, 0.8391592307810006]}, {\"categories\": [\"0\", \"4\", \"8\", \"10\", \"13\", \"17\", \"23\", \"24\", \"26\", \"27\", \"28\", \"29\", \"30\", \"31\", \"33\", \"34\", \"35\", \"36\", \"38\", \"39\", \"40\", \"41\", \"42\", \"43\", \"44\", \"45\", \"46\", \"47\", \"48\", \"49\", \"50\", \"56\"], \"mode\": \"lines\", \"name\": \"f1_score_macro_max\", \"stepped\": true, \"type\": \"scatter\", \"data\": [0.8120777859845001, 0.8120777859845001, 0.8120777859845001, 0.8120777859845001, 0.8120777859845001, 0.8120777859845001, 0.8120777859845001, 0.8120777859845001, 0.8120777859845001, 0.8154874303580663, 0.8154874303580663, 0.8154874303580663, 0.8154874303580663, 0.8154874303580663, 0.8154874303580663, 0.8154874303580663, 0.8154874303580663, 0.8221648224238862, 0.8221648224238862, 0.8221648224238862, 0.8221648224238862, 0.8221648224238862, 0.8221648224238862, 0.8221648224238862, 0.8221648224238862, 0.8221648224238862, 0.8221648224238862, 0.8221648224238862, 0.8221648224238862, 0.8221648224238862, 0.8221648224238862, 0.8391592307810006]}], \"norm_macro_recall\": [{\"categories\": [\"0\", \"4\", \"8\", \"10\", \"13\", \"17\", \"23\", \"24\", \"26\", \"27\", \"28\", \"29\", \"30\", \"31\", \"33\", \"34\", \"35\", \"36\", \"38\", \"39\", \"40\", \"41\", \"42\", \"43\", \"44\", \"45\", \"46\", \"47\", \"48\", \"49\", \"50\", \"56\"], \"mode\": \"markers\", \"name\": \"norm_macro_recall\", \"stepped\": false, \"type\": \"scatter\", \"data\": [0.6299833887043189, 0.09356589147286817, 0.059399224806201543, 0.5445930232558138, 0.12857142857142856, 0.5474750830564783, 0.4742691029900333, 0.6106132336655593, 0.6003585271317831, 0.6353322259136213, 0.6218037098560354, 0.5955024916943522, 0.6133513289036545, 0.6129775747508306, 0.6338275193798448, 0.5866846622369877, 0.0, 0.6481893687707642, 0.6086821705426356, 0.5317607973421927, 0.621531007751938, 0.6081893687707641, 0.608062015503876, 0.6369310631229237, 0.5644476744186047, 0.6257655038759691, 0.5004180509413068, 0.6157405869324475, 0.6002228682170544, 0.6329775747508306, 0.22011904761904763, 0.6745238095238095]}, {\"categories\": [\"0\", \"4\", \"8\", \"10\", \"13\", \"17\", \"23\", \"24\", \"26\", \"27\", \"28\", \"29\", \"30\", \"31\", \"33\", \"34\", \"35\", \"36\", \"38\", \"39\", \"40\", \"41\", \"42\", \"43\", \"44\", \"45\", \"46\", \"47\", \"48\", \"49\", \"50\", \"56\"], \"mode\": \"lines\", \"name\": \"norm_macro_recall_max\", \"stepped\": true, \"type\": \"scatter\", \"data\": [0.6299833887043189, 0.6299833887043189, 0.6299833887043189, 0.6299833887043189, 0.6299833887043189, 0.6299833887043189, 0.6299833887043189, 0.6299833887043189, 0.6299833887043189, 0.6353322259136213, 0.6353322259136213, 0.6353322259136213, 0.6353322259136213, 0.6353322259136213, 0.6353322259136213, 0.6353322259136213, 0.6353322259136213, 0.6481893687707642, 0.6481893687707642, 0.6481893687707642, 0.6481893687707642, 0.6481893687707642, 0.6481893687707642, 0.6481893687707642, 0.6481893687707642, 0.6481893687707642, 0.6481893687707642, 0.6481893687707642, 0.6481893687707642, 0.6481893687707642, 0.6481893687707642, 0.6745238095238095]}], \"precision_score_macro\": [{\"categories\": [\"0\", \"4\", \"8\", \"10\", \"13\", \"17\", \"23\", \"24\", \"26\", \"27\", \"28\", \"29\", \"30\", \"31\", \"33\", \"34\", \"35\", \"36\", \"38\", \"39\", \"40\", \"41\", \"42\", \"43\", \"44\", \"45\", \"46\", \"47\", \"48\", \"49\", \"50\", \"56\"], \"mode\": \"markers\", \"name\": \"precision_score_macro\", \"stepped\": false, \"type\": \"scatter\", \"data\": [0.8271330541439237, 0.5327661008582062, 0.5223827861510688, 0.7861326905871193, 0.803865266614813, 0.8017021258491441, 0.8216427580356152, 0.8064871190121388, 0.799525688339948, 0.832121682665161, 0.8225889186628883, 0.8266347782652131, 0.817593002375611, 0.8063003066443579, 0.8192901405944883, 0.8143073586410416, 0.33954802259887, 0.8428780169741268, 0.8457427337283953, 0.8235602453102452, 0.8362833869286229, 0.8201933121817255, 0.818252092923913, 0.8224877193834486, 0.8046149949341439, 0.8475586944654626, 0.7507034550416904, 0.806053393466437, 0.801203692898173, 0.8082257874319076, 0.8179130955432191, 0.8808078880805643]}, {\"categories\": [\"0\", \"4\", \"8\", \"10\", \"13\", \"17\", \"23\", \"24\", \"26\", \"27\", \"28\", \"29\", \"30\", \"31\", \"33\", \"34\", \"35\", \"36\", \"38\", \"39\", \"40\", \"41\", \"42\", \"43\", \"44\", \"45\", \"46\", \"47\", \"48\", \"49\", \"50\", \"56\"], \"mode\": \"lines\", \"name\": \"precision_score_macro_max\", \"stepped\": true, \"type\": \"scatter\", \"data\": [0.8271330541439237, 0.8271330541439237, 0.8271330541439237, 0.8271330541439237, 0.8271330541439237, 0.8271330541439237, 0.8271330541439237, 0.8271330541439237, 0.8271330541439237, 0.832121682665161, 0.832121682665161, 0.832121682665161, 0.832121682665161, 0.832121682665161, 0.832121682665161, 0.832121682665161, 0.832121682665161, 0.8428780169741268, 0.8457427337283953, 0.8457427337283953, 0.8457427337283953, 0.8457427337283953, 0.8457427337283953, 0.8457427337283953, 0.8457427337283953, 0.8475586944654626, 0.8475586944654626, 0.8475586944654626, 0.8475586944654626, 0.8475586944654626, 0.8475586944654626, 0.8808078880805643]}], \"weighted_accuracy\": [{\"categories\": [\"0\", \"4\", \"8\", \"10\", \"13\", \"17\", \"23\", \"24\", \"26\", \"27\", \"28\", \"29\", \"30\", \"31\", \"33\", \"34\", \"35\", \"36\", \"38\", \"39\", \"40\", \"41\", \"42\", \"43\", \"44\", \"45\", \"46\", \"47\", \"48\", \"49\", \"50\", \"56\"], \"mode\": \"markers\", \"name\": \"weighted_accuracy\", \"stepped\": false, \"type\": \"scatter\", \"data\": [0.8612928020219082, 0.6483997010991984, 0.654723837833538, 0.8339718055595053, 0.8167339976580884, 0.829938160671958, 0.8566688717401492, 0.8461747143605514, 0.8383672440661887, 0.8658071273745241, 0.8589205064827101, 0.8633695682548554, 0.8508042475897722, 0.8444050715865773, 0.8544598340713119, 0.8538238554329094, 0.7971865900207855, 0.8727097822417809, 0.8748030663298468, 0.8602597197372213, 0.8657763791704227, 0.8544652663831809, 0.8521451556596406, 0.8586616036530856, 0.8453345953772594, 0.874645014081558, 0.7936226414472207, 0.8439158115309269, 0.8381177913159673, 0.8441605557279772, 0.8208438111418449, 0.8911730026465005]}, {\"categories\": [\"0\", \"4\", \"8\", \"10\", \"13\", \"17\", \"23\", \"24\", \"26\", \"27\", \"28\", \"29\", \"30\", \"31\", \"33\", \"34\", \"35\", \"36\", \"38\", \"39\", \"40\", \"41\", \"42\", \"43\", \"44\", \"45\", \"46\", \"47\", \"48\", \"49\", \"50\", \"56\"], \"mode\": \"lines\", \"name\": \"weighted_accuracy_max\", \"stepped\": true, \"type\": \"scatter\", \"data\": [0.8612928020219082, 0.8612928020219082, 0.8612928020219082, 0.8612928020219082, 0.8612928020219082, 0.8612928020219082, 0.8612928020219082, 0.8612928020219082, 0.8612928020219082, 0.8658071273745241, 0.8658071273745241, 0.8658071273745241, 0.8658071273745241, 0.8658071273745241, 0.8658071273745241, 0.8658071273745241, 0.8658071273745241, 0.8727097822417809, 0.8748030663298468, 0.8748030663298468, 0.8748030663298468, 0.8748030663298468, 0.8748030663298468, 0.8748030663298468, 0.8748030663298468, 0.8748030663298468, 0.8748030663298468, 0.8748030663298468, 0.8748030663298468, 0.8748030663298468, 0.8748030663298468, 0.8911730026465005]}], \"AUC_weighted\": [{\"categories\": [\"0\", \"4\", \"8\", \"10\", \"13\", \"17\", \"23\", \"24\", \"26\", \"27\", \"28\", \"29\", \"30\", \"31\", \"33\", \"34\", \"35\", \"36\", \"38\", \"39\", \"40\", \"41\", \"42\", \"43\", \"44\", \"45\", \"46\", \"47\", \"48\", \"49\", \"50\", \"56\"], \"mode\": \"markers\", \"name\": \"AUC_weighted\", \"stepped\": false, \"type\": \"scatter\", \"data\": [0.8923947259136213, 0.4801177556293836, 0.48995519564414913, 0.8676549003322258, 0.8278220284237726, 0.8716356127722407, 0.8841155638612035, 0.901281872923588, 0.8897164890180879, 0.891282299741602, 0.9041706579918788, 0.8866393503137691, 0.8938917497231451, 0.8826949520118124, 0.9080468576965671, 0.9053878506829088, 0.5, 0.8995224021779255, 0.9007715946843854, 0.9025972452934662, 0.8933149224806203, 0.8966488787375415, 0.8729621862310817, 0.9196175941306756, 0.8610052141011444, 0.8784160437430787, 0.8681921834625325, 0.8901773486526393, 0.9007834533038022, 0.8980743124769287, 0.8581258997785159, 0.9218074012550757]}, {\"categories\": [\"0\", \"4\", \"8\", \"10\", \"13\", \"17\", \"23\", \"24\", \"26\", \"27\", \"28\", \"29\", \"30\", \"31\", \"33\", \"34\", \"35\", \"36\", \"38\", \"39\", \"40\", \"41\", \"42\", \"43\", \"44\", \"45\", \"46\", \"47\", \"48\", \"49\", \"50\", \"56\"], \"mode\": \"lines\", \"name\": \"AUC_weighted_max\", \"stepped\": true, \"type\": \"scatter\", \"data\": [0.8923947259136213, 0.8923947259136213, 0.8923947259136213, 0.8923947259136213, 0.8923947259136213, 0.8923947259136213, 0.8923947259136213, 0.901281872923588, 0.901281872923588, 0.901281872923588, 0.9041706579918788, 0.9041706579918788, 0.9041706579918788, 0.9041706579918788, 0.9080468576965671, 0.9080468576965671, 0.9080468576965671, 0.9080468576965671, 0.9080468576965671, 0.9080468576965671, 0.9080468576965671, 0.9080468576965671, 0.9080468576965671, 0.9196175941306756, 0.9196175941306756, 0.9196175941306756, 0.9196175941306756, 0.9196175941306756, 0.9196175941306756, 0.9196175941306756, 0.9196175941306756, 0.9218074012550757]}], \"recall_score_micro\": [{\"categories\": [\"0\", \"4\", \"8\", \"10\", \"13\", \"17\", \"23\", \"24\", \"26\", \"27\", \"28\", \"29\", \"30\", \"31\", \"33\", \"34\", \"35\", \"36\", \"38\", \"39\", \"40\", \"41\", \"42\", \"43\", \"44\", \"45\", \"46\", \"47\", \"48\", \"49\", \"50\", \"56\"], \"mode\": \"markers\", \"name\": \"recall_score_micro\", \"stepped\": false, \"type\": \"scatter\", \"data\": [0.8428248587570621, 0.6019209039548021, 0.6019209039548024, 0.8091525423728815, 0.7158757062146892, 0.8061016949152542, 0.8093785310734465, 0.8293785310734464, 0.822542372881356, 0.8461581920903957, 0.8393785310734463, 0.836045197740113, 0.8327118644067797, 0.8292090395480226, 0.8393220338983051, 0.8293785310734464, 0.67909604519774, 0.8528248587570622, 0.846271186440678, 0.8227118644067797, 0.8428813559322034, 0.8328813559322035, 0.8328248587570621, 0.8427118644067797, 0.8195480225988702, 0.8495480225988701, 0.7759322033898306, 0.8293785310734464, 0.8224293785310735, 0.8325988700564972, 0.7359322033898306, 0.8696045197740112]}, {\"categories\": [\"0\", \"4\", \"8\", \"10\", \"13\", \"17\", \"23\", \"24\", \"26\", \"27\", \"28\", \"29\", \"30\", \"31\", \"33\", \"34\", \"35\", \"36\", \"38\", \"39\", \"40\", \"41\", \"42\", \"43\", \"44\", \"45\", \"46\", \"47\", \"48\", \"49\", \"50\", \"56\"], \"mode\": \"lines\", \"name\": \"recall_score_micro_max\", \"stepped\": true, \"type\": \"scatter\", \"data\": [0.8428248587570621, 0.8428248587570621, 0.8428248587570621, 0.8428248587570621, 0.8428248587570621, 0.8428248587570621, 0.8428248587570621, 0.8428248587570621, 0.8428248587570621, 0.8461581920903957, 0.8461581920903957, 0.8461581920903957, 0.8461581920903957, 0.8461581920903957, 0.8461581920903957, 0.8461581920903957, 0.8461581920903957, 0.8528248587570622, 0.8528248587570622, 0.8528248587570622, 0.8528248587570622, 0.8528248587570622, 0.8528248587570622, 0.8528248587570622, 0.8528248587570622, 0.8528248587570622, 0.8528248587570622, 0.8528248587570622, 0.8528248587570622, 0.8528248587570622, 0.8528248587570622, 0.8696045197740112]}], \"log_loss\": [{\"categories\": [\"0\", \"4\", \"8\", \"10\", \"13\", \"17\", \"23\", \"24\", \"26\", \"27\", \"28\", \"29\", \"30\", \"31\", \"33\", \"34\", \"35\", \"36\", \"38\", \"39\", \"40\", \"41\", \"42\", \"43\", \"44\", \"45\", \"46\", \"47\", \"48\", \"49\", \"50\", \"56\"], \"mode\": \"markers\", \"name\": \"log_loss\", \"stepped\": false, \"type\": \"scatter\", \"data\": [0.5079173229698006, 3.1901163078499613, 1.3517824818150241, 0.4332134764676658, 0.5209148437304985, 0.4344362459504068, 0.4459041752569285, 0.397287963484988, 0.6067184039280259, 0.43322880330051233, 0.381211417337535, 0.4327618778556948, 0.3973100194118676, 0.42492757725055286, 0.3894561679112035, 0.3880387752428584, 0.6376473100777377, 0.3880207184481188, 0.43596697546095253, 0.41952524509629663, 0.4352788408697349, 0.4397854425197356, 0.4821077216232975, 0.3634889338489625, 0.654860257224503, 0.4199233590435291, 0.5333669234688718, 0.43892908686468396, 0.40999826898635156, 0.4112839345125622, 0.5334651335441309, 0.3864977758365068]}, {\"categories\": [\"0\", \"4\", \"8\", \"10\", \"13\", \"17\", \"23\", \"24\", \"26\", \"27\", \"28\", \"29\", \"30\", \"31\", \"33\", \"34\", \"35\", \"36\", \"38\", \"39\", \"40\", \"41\", \"42\", \"43\", \"44\", \"45\", \"46\", \"47\", \"48\", \"49\", \"50\", \"56\"], \"mode\": \"lines\", \"name\": \"log_loss_min\", \"stepped\": true, \"type\": \"scatter\", \"data\": [0.5079173229698006, 0.5079173229698006, 0.5079173229698006, 0.4332134764676658, 0.4332134764676658, 0.4332134764676658, 0.4332134764676658, 0.397287963484988, 0.397287963484988, 0.397287963484988, 0.381211417337535, 0.381211417337535, 0.381211417337535, 0.381211417337535, 0.381211417337535, 0.381211417337535, 0.381211417337535, 0.381211417337535, 0.381211417337535, 0.381211417337535, 0.381211417337535, 0.381211417337535, 0.381211417337535, 0.3634889338489625, 0.3634889338489625, 0.3634889338489625, 0.3634889338489625, 0.3634889338489625, 0.3634889338489625, 0.3634889338489625, 0.3634889338489625, 0.3634889338489625]}], \"precision_score_weighted\": [{\"categories\": [\"0\", \"4\", \"8\", \"10\", \"13\", \"17\", \"23\", \"24\", \"26\", \"27\", \"28\", \"29\", \"30\", \"31\", \"33\", \"34\", \"35\", \"36\", \"38\", \"39\", \"40\", \"41\", \"42\", \"43\", \"44\", \"45\", \"46\", \"47\", \"48\", \"49\", \"50\", \"56\"], \"mode\": \"markers\", \"name\": \"precision_score_weighted\", \"stepped\": false, \"type\": \"scatter\", \"data\": [0.8524277365010601, 0.6025373161546221, 0.5927973464058581, 0.8248060230194989, 0.7887675256717677, 0.833293551294392, 0.8261619974053389, 0.8409194406074952, 0.8385177405935658, 0.8581136099632782, 0.8488129259320409, 0.8477966743810518, 0.8470235598459623, 0.8423186771681189, 0.8534487046911513, 0.8407950595862376, 0.4689005075169971, 0.8666093091958196, 0.8610182112315259, 0.8369841163858114, 0.8591267733296301, 0.8500291917656785, 0.849276357401403, 0.8536076442041269, 0.8324159382709689, 0.8614385601538002, 0.7982913993985779, 0.8435429828230123, 0.8389309106088115, 0.8494715526529891, 0.7930508830328752, 0.8903726312975653]}, {\"categories\": [\"0\", \"4\", \"8\", \"10\", \"13\", \"17\", \"23\", \"24\", \"26\", \"27\", \"28\", \"29\", \"30\", \"31\", \"33\", \"34\", \"35\", \"36\", \"38\", \"39\", \"40\", \"41\", \"42\", \"43\", \"44\", \"45\", \"46\", \"47\", \"48\", \"49\", \"50\", \"56\"], \"mode\": \"lines\", \"name\": \"precision_score_weighted_max\", \"stepped\": true, \"type\": \"scatter\", \"data\": [0.8524277365010601, 0.8524277365010601, 0.8524277365010601, 0.8524277365010601, 0.8524277365010601, 0.8524277365010601, 0.8524277365010601, 0.8524277365010601, 0.8524277365010601, 0.8581136099632782, 0.8581136099632782, 0.8581136099632782, 0.8581136099632782, 0.8581136099632782, 0.8581136099632782, 0.8581136099632782, 0.8581136099632782, 0.8666093091958196, 0.8666093091958196, 0.8666093091958196, 0.8666093091958196, 0.8666093091958196, 0.8666093091958196, 0.8666093091958196, 0.8666093091958196, 0.8666093091958196, 0.8666093091958196, 0.8666093091958196, 0.8666093091958196, 0.8666093091958196, 0.8666093091958196, 0.8903726312975653]}], \"recall_score_weighted\": [{\"categories\": [\"0\", \"4\", \"8\", \"10\", \"13\", \"17\", \"23\", \"24\", \"26\", \"27\", \"28\", \"29\", \"30\", \"31\", \"33\", \"34\", \"35\", \"36\", \"38\", \"39\", \"40\", \"41\", \"42\", \"43\", \"44\", \"45\", \"46\", \"47\", \"48\", \"49\", \"50\", \"56\"], \"mode\": \"markers\", \"name\": \"recall_score_weighted\", \"stepped\": false, \"type\": \"scatter\", \"data\": [0.8428248587570621, 0.6019209039548021, 0.6019209039548024, 0.8091525423728815, 0.7158757062146892, 0.8061016949152542, 0.8093785310734465, 0.8293785310734464, 0.822542372881356, 0.8461581920903957, 0.8393785310734463, 0.836045197740113, 0.8327118644067797, 0.8292090395480226, 0.8393220338983051, 0.8293785310734464, 0.67909604519774, 0.8528248587570622, 0.846271186440678, 0.8227118644067797, 0.8428813559322034, 0.8328813559322035, 0.8328248587570621, 0.8427118644067797, 0.8195480225988702, 0.8495480225988701, 0.7759322033898306, 0.8293785310734464, 0.8224293785310735, 0.8325988700564972, 0.7359322033898306, 0.8696045197740112]}, {\"categories\": [\"0\", \"4\", \"8\", \"10\", \"13\", \"17\", \"23\", \"24\", \"26\", \"27\", \"28\", \"29\", \"30\", \"31\", \"33\", \"34\", \"35\", \"36\", \"38\", \"39\", \"40\", \"41\", \"42\", \"43\", \"44\", \"45\", \"46\", \"47\", \"48\", \"49\", \"50\", \"56\"], \"mode\": \"lines\", \"name\": \"recall_score_weighted_max\", \"stepped\": true, \"type\": \"scatter\", \"data\": [0.8428248587570621, 0.8428248587570621, 0.8428248587570621, 0.8428248587570621, 0.8428248587570621, 0.8428248587570621, 0.8428248587570621, 0.8428248587570621, 0.8428248587570621, 0.8461581920903957, 0.8461581920903957, 0.8461581920903957, 0.8461581920903957, 0.8461581920903957, 0.8461581920903957, 0.8461581920903957, 0.8461581920903957, 0.8528248587570622, 0.8528248587570622, 0.8528248587570622, 0.8528248587570622, 0.8528248587570622, 0.8528248587570622, 0.8528248587570622, 0.8528248587570622, 0.8528248587570622, 0.8528248587570622, 0.8528248587570622, 0.8528248587570622, 0.8528248587570622, 0.8528248587570622, 0.8696045197740112]}], \"AUC_macro\": [{\"categories\": [\"0\", \"4\", \"8\", \"10\", \"13\", \"17\", \"23\", \"24\", \"26\", \"27\", \"28\", \"29\", \"30\", \"31\", \"33\", \"34\", \"35\", \"36\", \"38\", \"39\", \"40\", \"41\", \"42\", \"43\", \"44\", \"45\", \"46\", \"47\", \"48\", \"49\", \"50\", \"56\"], \"mode\": \"markers\", \"name\": \"AUC_macro\", \"stepped\": false, \"type\": \"scatter\", \"data\": [0.8923947259136213, 0.4801177556293835, 0.48995519564414913, 0.8676549003322259, 0.8278220284237726, 0.8716356127722407, 0.8841155638612035, 0.901281872923588, 0.889720209256183, 0.891282299741602, 0.904170657991879, 0.8866393503137691, 0.8938917497231451, 0.8826949520118124, 0.908046857696567, 0.9053878506829088, 0.5, 0.8995224021779255, 0.9007715946843854, 0.9025972452934662, 0.89331492248062, 0.8966488787375415, 0.8729621862310817, 0.9196175941306756, 0.8610052141011444, 0.8784160437430787, 0.8681921834625325, 0.8901773486526393, 0.9007834533038022, 0.8980743124769287, 0.8581258997785162, 0.9218074012550757]}, {\"categories\": [\"0\", \"4\", \"8\", \"10\", \"13\", \"17\", \"23\", \"24\", \"26\", \"27\", \"28\", \"29\", \"30\", \"31\", \"33\", \"34\", \"35\", \"36\", \"38\", \"39\", \"40\", \"41\", \"42\", \"43\", \"44\", \"45\", \"46\", \"47\", \"48\", \"49\", \"50\", \"56\"], \"mode\": \"lines\", \"name\": \"AUC_macro_max\", \"stepped\": true, \"type\": \"scatter\", \"data\": [0.8923947259136213, 0.8923947259136213, 0.8923947259136213, 0.8923947259136213, 0.8923947259136213, 0.8923947259136213, 0.8923947259136213, 0.901281872923588, 0.901281872923588, 0.901281872923588, 0.904170657991879, 0.904170657991879, 0.904170657991879, 0.904170657991879, 0.908046857696567, 0.908046857696567, 0.908046857696567, 0.908046857696567, 0.908046857696567, 0.908046857696567, 0.908046857696567, 0.908046857696567, 0.908046857696567, 0.9196175941306756, 0.9196175941306756, 0.9196175941306756, 0.9196175941306756, 0.9196175941306756, 0.9196175941306756, 0.9196175941306756, 0.9196175941306756, 0.9218074012550757]}], \"matthews_correlation\": [{\"categories\": [\"0\", \"4\", \"8\", \"10\", \"13\", \"17\", \"23\", \"24\", \"26\", \"27\", \"28\", \"29\", \"30\", \"31\", \"33\", \"34\", \"35\", \"36\", \"38\", \"39\", \"40\", \"41\", \"42\", \"43\", \"44\", \"45\", \"46\", \"47\", \"48\", \"49\", \"50\", \"56\"], \"mode\": \"markers\", \"name\": \"matthews_correlation\", \"stepped\": false, \"type\": \"scatter\", \"data\": [0.6403744433261381, 0.06752574457689178, 0.046261551505941925, 0.5562547050286835, 0.27605922384771936, 0.5697781722393639, 0.5509419044744464, 0.610700389814898, 0.5979401634170405, 0.6483265129029532, 0.6325539214644207, 0.6221830703805049, 0.6225092059168277, 0.6117975169372915, 0.6345228004784262, 0.606107943389902, 0.0, 0.6651292931283608, 0.6471060251005029, 0.585324063831458, 0.6443264718463864, 0.6219121704158104, 0.6204126041363207, 0.6397658109579082, 0.584709907926736, 0.6574341024122901, 0.4990361381426272, 0.6124572673749791, 0.5997171078558985, 0.6231468435461369, 0.3656440020260162, 0.7127545897917826]}, {\"categories\": [\"0\", \"4\", \"8\", \"10\", \"13\", \"17\", \"23\", \"24\", \"26\", \"27\", \"28\", \"29\", \"30\", \"31\", \"33\", \"34\", \"35\", \"36\", \"38\", \"39\", \"40\", \"41\", \"42\", \"43\", \"44\", \"45\", \"46\", \"47\", \"48\", \"49\", \"50\", \"56\"], \"mode\": \"lines\", \"name\": \"matthews_correlation_max\", \"stepped\": true, \"type\": \"scatter\", \"data\": [0.6403744433261381, 0.6403744433261381, 0.6403744433261381, 0.6403744433261381, 0.6403744433261381, 0.6403744433261381, 0.6403744433261381, 0.6403744433261381, 0.6403744433261381, 0.6483265129029532, 0.6483265129029532, 0.6483265129029532, 0.6483265129029532, 0.6483265129029532, 0.6483265129029532, 0.6483265129029532, 0.6483265129029532, 0.6651292931283608, 0.6651292931283608, 0.6651292931283608, 0.6651292931283608, 0.6651292931283608, 0.6651292931283608, 0.6651292931283608, 0.6651292931283608, 0.6651292931283608, 0.6651292931283608, 0.6651292931283608, 0.6651292931283608, 0.6651292931283608, 0.6651292931283608, 0.7127545897917826]}], \"average_precision_score_macro\": [{\"categories\": [\"0\", \"4\", \"8\", \"10\", \"13\", \"17\", \"23\", \"24\", \"26\", \"27\", \"28\", \"29\", \"30\", \"31\", \"33\", \"34\", \"35\", \"36\", \"38\", \"39\", \"40\", \"41\", \"42\", \"43\", \"44\", \"45\", \"46\", \"47\", \"48\", \"49\", \"50\", \"56\"], \"mode\": \"markers\", \"name\": \"average_precision_score_macro\", \"stepped\": false, \"type\": \"scatter\", \"data\": [0.8827295343890258, 0.5420694554890382, 0.5577980031402058, 0.8498657091916589, 0.802274721937345, 0.8603704728294751, 0.8598186527910275, 0.889423593470639, 0.8697394903222877, 0.8658460336159148, 0.8883345906228104, 0.8677646367506859, 0.8853766290769629, 0.8822888389274276, 0.8900696693062194, 0.8884854278889673, 0.5, 0.8827892679162895, 0.8816255700752726, 0.891332174276449, 0.873115433269143, 0.8790339708988094, 0.8579161383977862, 0.9112894489689797, 0.8389864851629338, 0.8700963935270265, 0.8529029499313172, 0.8787892516052096, 0.8869379670324469, 0.8885372574261339, 0.8413511392837523, 0.9045130646246313]}, {\"categories\": [\"0\", \"4\", \"8\", \"10\", \"13\", \"17\", \"23\", \"24\", \"26\", \"27\", \"28\", \"29\", \"30\", \"31\", \"33\", \"34\", \"35\", \"36\", \"38\", \"39\", \"40\", \"41\", \"42\", \"43\", \"44\", \"45\", \"46\", \"47\", \"48\", \"49\", \"50\", \"56\"], \"mode\": \"lines\", \"name\": \"average_precision_score_macro_max\", \"stepped\": true, \"type\": \"scatter\", \"data\": [0.8827295343890258, 0.8827295343890258, 0.8827295343890258, 0.8827295343890258, 0.8827295343890258, 0.8827295343890258, 0.8827295343890258, 0.889423593470639, 0.889423593470639, 0.889423593470639, 0.889423593470639, 0.889423593470639, 0.889423593470639, 0.889423593470639, 0.8900696693062194, 0.8900696693062194, 0.8900696693062194, 0.8900696693062194, 0.8900696693062194, 0.891332174276449, 0.891332174276449, 0.891332174276449, 0.891332174276449, 0.9112894489689797, 0.9112894489689797, 0.9112894489689797, 0.9112894489689797, 0.9112894489689797, 0.9112894489689797, 0.9112894489689797, 0.9112894489689797, 0.9112894489689797]}]}, \"metricName\": null, \"primaryMetricName\": \"accuracy\", \"showLegend\": false}, \"run_metrics\": [{\"name\": \"experiment_status\", \"run_id\": \"AutoML_c8cfe321-8de0-4ede-9550-cbd201a5f3e7\", \"categories\": [0, 1, 2, 3, 4, 5, 6, 7, 8, 9, 10, 11, 12, 13], \"series\": [{\"data\": [\"DatasetEvaluation\", \"FeaturesGeneration\", \"DatasetFeaturization\", \"DatasetFeaturizationCompleted\", \"DatasetCrossValidationSplit\", \"ModelSelection\", \"BestRunExplainModel\", \"ModelExplanationDataSetSetup\", \"PickSurrogateModel\", \"EngineeredFeatureExplanations\", \"EngineeredFeatureExplanations\", \"RawFeaturesExplanations\", \"RawFeaturesExplanations\", \"BestRunExplainModel\"]}]}, {\"name\": \"experiment_status_description\", \"run_id\": \"AutoML_c8cfe321-8de0-4ede-9550-cbd201a5f3e7\", \"categories\": [0, 1, 2, 3, 4, 5, 6, 7, 8, 9, 10, 11, 12, 13], \"series\": [{\"data\": [\"Gathering dataset statistics.\", \"Generating features for the dataset.\", \"Beginning to fit featurizers and featurize the dataset.\", \"Completed fit featurizers and featurizing the dataset.\", \"Generating individually featurized CV splits.\", \"Beginning model selection.\", \"Best run model explanations started\", \"Model explanations data setup completed\", \"Choosing LightGBM as the surrogate model for explanations\", \"Computation of engineered features started\", \"Computation of engineered features completed\", \"Computation of raw features started\", \"Computation of raw features completed\", \"Best run model explanations completed\"]}]}, {\"name\": \"average_precision_score_micro\", \"run_id\": \"AutoML_c8cfe321-8de0-4ede-9550-cbd201a5f3e7\", \"categories\": [0], \"series\": [{\"data\": [0.9225193776148423]}]}, {\"name\": \"f1_score_micro\", \"run_id\": \"AutoML_c8cfe321-8de0-4ede-9550-cbd201a5f3e7\", \"categories\": [0], \"series\": [{\"data\": [0.8930508474576271]}]}, {\"name\": \"f1_score_weighted\", \"run_id\": \"AutoML_c8cfe321-8de0-4ede-9550-cbd201a5f3e7\", \"categories\": [0], \"series\": [{\"data\": [0.8898830531029361]}]}, {\"name\": \"f1_score_macro\", \"run_id\": \"AutoML_c8cfe321-8de0-4ede-9550-cbd201a5f3e7\", \"categories\": [0], \"series\": [{\"data\": [0.8701440289333456]}]}, {\"name\": \"accuracy\", \"run_id\": \"AutoML_c8cfe321-8de0-4ede-9550-cbd201a5f3e7\", \"categories\": [0], \"series\": [{\"data\": [0.8930508474576271]}]}, {\"name\": \"average_precision_score_weighted\", \"run_id\": \"AutoML_c8cfe321-8de0-4ede-9550-cbd201a5f3e7\", \"categories\": [0], \"series\": [{\"data\": [0.9284507367470065]}]}, {\"name\": \"AUC_macro\", \"run_id\": \"AutoML_c8cfe321-8de0-4ede-9550-cbd201a5f3e7\", \"categories\": [0], \"series\": [{\"data\": [0.9192687338501292]}]}, {\"name\": \"precision_score_micro\", \"run_id\": \"AutoML_c8cfe321-8de0-4ede-9550-cbd201a5f3e7\", \"categories\": [0], \"series\": [{\"data\": [0.8930508474576271]}]}, {\"name\": \"recall_score_micro\", \"run_id\": \"AutoML_c8cfe321-8de0-4ede-9550-cbd201a5f3e7\", \"categories\": [0], \"series\": [{\"data\": [0.8930508474576271]}]}, {\"name\": \"balanced_accuracy\", \"run_id\": \"AutoML_c8cfe321-8de0-4ede-9550-cbd201a5f3e7\", \"categories\": [0], \"series\": [{\"data\": [0.8654761904761905]}]}, {\"name\": \"recall_score_macro\", \"run_id\": \"AutoML_c8cfe321-8de0-4ede-9550-cbd201a5f3e7\", \"categories\": [0], \"series\": [{\"data\": [0.8654761904761905]}]}, {\"name\": \"weighted_accuracy\", \"run_id\": \"AutoML_c8cfe321-8de0-4ede-9550-cbd201a5f3e7\", \"categories\": [0], \"series\": [{\"data\": [0.9115054180922364]}]}, {\"name\": \"log_loss\", \"run_id\": \"AutoML_c8cfe321-8de0-4ede-9550-cbd201a5f3e7\", \"categories\": [0], \"series\": [{\"data\": [0.363852781580171]}]}, {\"name\": \"precision_score_weighted\", \"run_id\": \"AutoML_c8cfe321-8de0-4ede-9550-cbd201a5f3e7\", \"categories\": [0], \"series\": [{\"data\": [0.9065511374387738]}]}, {\"name\": \"recall_score_weighted\", \"run_id\": \"AutoML_c8cfe321-8de0-4ede-9550-cbd201a5f3e7\", \"categories\": [0], \"series\": [{\"data\": [0.8930508474576271]}]}, {\"name\": \"AUC_micro\", \"run_id\": \"AutoML_c8cfe321-8de0-4ede-9550-cbd201a5f3e7\", \"categories\": [0], \"series\": [{\"data\": [0.9197958600657538]}]}, {\"name\": \"average_precision_score_macro\", \"run_id\": \"AutoML_c8cfe321-8de0-4ede-9550-cbd201a5f3e7\", \"categories\": [0], \"series\": [{\"data\": [0.9026959391883228]}]}, {\"name\": \"matthews_correlation\", \"run_id\": \"AutoML_c8cfe321-8de0-4ede-9550-cbd201a5f3e7\", \"categories\": [0], \"series\": [{\"data\": [0.7607915062466252]}]}, {\"name\": \"AUC_weighted\", \"run_id\": \"AutoML_c8cfe321-8de0-4ede-9550-cbd201a5f3e7\", \"categories\": [0], \"series\": [{\"data\": [0.9192687338501292]}]}, {\"name\": \"precision_score_macro\", \"run_id\": \"AutoML_c8cfe321-8de0-4ede-9550-cbd201a5f3e7\", \"categories\": [0], \"series\": [{\"data\": [0.897721055460622]}]}, {\"name\": \"norm_macro_recall\", \"run_id\": \"AutoML_c8cfe321-8de0-4ede-9550-cbd201a5f3e7\", \"categories\": [0], \"series\": [{\"data\": [0.730952380952381]}]}], \"run_logs\": \"\\nRun is completed.\", \"graph\": {}, \"widget_settings\": {\"childWidgetDisplay\": \"popup\", \"send_telemetry\": false, \"log_level\": \"INFO\", \"sdk_version\": \"1.51.0\"}, \"loading\": false}"
          },
          "metadata": {}
        },
        {
          "output_type": "display_data",
          "data": {
            "text/html": "<table style=\"width:100%\"><tr><th>Experiment</th><th>Id</th><th>Type</th><th>Status</th><th>Details Page</th><th>Docs Page</th></tr><tr><td>udacity-capstone</td><td>AutoML_c8cfe321-8de0-4ede-9550-cbd201a5f3e7</td><td>automl</td><td>NotStarted</td><td><a href=\"https://ml.azure.com/runs/AutoML_c8cfe321-8de0-4ede-9550-cbd201a5f3e7?wsid=/subscriptions/6b4af8be-9931-443e-90f6-c4c34a1f9737/resourcegroups/aml-quickstarts-252188/workspaces/quick-starts-ws-252188&amp;tid=660b3398-b80e-49d2-bc5b-ac1dc93b5254\" target=\"_blank\" rel=\"noopener\">Link to Azure Machine Learning studio</a></td><td><a href=\"https://docs.microsoft.com/en-us/python/api/overview/azure/ml/intro?view=azure-ml-py\" target=\"_blank\" rel=\"noopener\">Link to Documentation</a></td></tr></table>"
          },
          "metadata": {}
        },
        {
          "output_type": "stream",
          "name": "stdout",
          "text": "\nCurrent status: FeaturesGeneration. Generating features for the dataset.\nCurrent status: DatasetCrossValidationSplit. Generating individually featurized CV splits.\nCurrent status: ModelSelection. Beginning model selection.\n\n********************************************************************************************\nDATA GUARDRAILS: \n\nTYPE:         Class balancing detection\nSTATUS:       PASSED\nDESCRIPTION:  Your inputs were analyzed, and all classes are balanced in your training data.\n              Learn more about imbalanced data: https://aka.ms/AutomatedMLImbalancedData\n\n********************************************************************************************\n\nTYPE:         Missing feature values imputation\nSTATUS:       PASSED\nDESCRIPTION:  No feature missing values were detected in the training data.\n              Learn more about missing value imputation: https://aka.ms/AutomatedMLFeaturization\n\n********************************************************************************************\n\nTYPE:         High cardinality feature detection\nSTATUS:       PASSED\nDESCRIPTION:  Your inputs were analyzed, and no high cardinality features were detected.\n              Learn more about high cardinality feature handling: https://aka.ms/AutomatedMLFeaturization\n\n********************************************************************************************\n\n********************************************************************************************\nITER: The iteration being evaluated.\nPIPELINE: A summary description of the pipeline being evaluated.\nDURATION: Time taken for the current iteration.\nMETRIC: The result of computing score on the fitted pipeline.\nBEST: The best observed score thus far.\n********************************************************************************************\n\n ITER   PIPELINE                                       DURATION            METRIC      BEST\n    0   MaxAbsScaler LightGBM                          0:00:22             0.8428    0.8428\n    4   StandardScalerWrapper KNN                      0:00:21             0.6019    0.8428\n    1   MaxAbsScaler XGBoostClassifier                 0:00:16             0.7990    0.8428\n    5   MaxAbsScaler LightGBM                          0:00:16             0.8360    0.8428\n    6   RobustScaler LogisticRegression                0:00:18             0.7859    0.8428\n    8   StandardScalerWrapper KNN                      0:00:19             0.6019    0.8428\n   10   StandardScalerWrapper XGBoostClassifier        0:00:18             0.8092    0.8428\n    2   MaxAbsScaler ExtremeRandomTrees                0:00:19             0.8227    0.8428\n    9   StandardScalerWrapper SVM                      0:00:16             0.7224    0.8428\n   11   MinMaxScaler RandomForest                      0:00:19             0.8258    0.8428\n   12   StandardScalerWrapper LogisticRegression       0:00:20             0.7323    0.8428\n   13   StandardScalerWrapper KNN                      0:00:16             0.7159    0.8428\n    3   SparseNormalizer XGBoostClassifier             0:00:17             0.8094    0.8428\n    7   MaxAbsScaler LightGBM                          0:00:18             0.8127    0.8428\n   14   RobustScaler KNN                               0:00:15             0.7158    0.8428\n   15   MinMaxScaler KNN                               0:00:17             0.7225    0.8428\n   16   SparseNormalizer KNN                           0:00:17             0.7560    0.8428\n   17   MaxAbsScaler LogisticRegression                0:00:14             0.8061    0.8428\n   18   StandardScalerWrapper XGBoostClassifier        0:00:15             0.8193    0.8428\n   19   StandardScalerWrapper XGBoostClassifier        0:00:16             0.8226    0.8428\n   23   StandardScalerWrapper RandomForest             0:00:37             0.8094    0.8428\n   21   StandardScalerWrapper XGBoostClassifier        0:00:45             0.8361    0.8428\n   20   MaxAbsScaler LogisticRegression                0:00:42             0.8160    0.8428\n   22   SparseNormalizer RandomForest                  0:00:46             0.8295    0.8428\n   24   StandardScalerWrapper XGBoostClassifier        0:00:39             0.8294    0.8428\n   25   MinMaxScaler LightGBM                          0:00:45             0.8426    0.8428\n   26   RobustScaler RandomForest                      0:00:44             0.8225    0.8428\n   27   SparseNormalizer XGBoostClassifier             0:00:45             0.8462    0.8462\n   28   RobustScaler RandomForest                      0:00:43             0.8394    0.8462\n   29   MinMaxScaler LightGBM                          0:00:44             0.8360    0.8462\n   30   RobustScaler LightGBM                          0:00:46             0.8327    0.8462\n   31   StandardScalerWrapper XGBoostClassifier        0:00:44             0.8292    0.8462\n   33   StandardScalerWrapper XGBoostClassifier        0:00:44             0.8393    0.8462\n   34   RobustScaler RandomForest                      0:00:46             0.8294    0.8462\n   35   PCA XGBoostClassifier                          0:00:44             0.6791    0.8462\n   36   SparseNormalizer LightGBM                      0:00:44             0.8528    0.8528\n   37   MaxAbsScaler LightGBM                          0:00:46             0.8293    0.8528\n   38   SparseNormalizer XGBoostClassifier             0:00:44             0.8463    0.8528\n   39   MinMaxScaler LightGBM                          0:00:49             0.8227    0.8528\n   40   SparseNormalizer XGBoostClassifier             0:00:47             0.8429    0.8528\n   41   SparseNormalizer XGBoostClassifier             0:00:46             0.8329    0.8528\n   42   SparseNormalizer XGBoostClassifier             0:00:46             0.8328    0.8528\n   43   RobustScaler GradientBoosting                  0:00:50             0.8427    0.8528\n   44   SparseNormalizer XGBoostClassifier             0:00:47             0.8195    0.8528\n   45   SparseNormalizer LightGBM                      0:00:48             0.8495    0.8528\n   46   StandardScalerWrapper RandomForest             0:00:47             0.7759    0.8528\n   47   StandardScalerWrapper ExtremeRandomTrees       0:00:54             0.8294    0.8528\n   48   StandardScalerWrapper XGBoostClassifier        0:00:48             0.8224    0.8528\n   49   MaxAbsScaler RandomForest                      0:00:48             0.8326    0.8528\n   50   MaxAbsScaler LightGBM                          0:00:46             0.7359    0.8528\n   51   SparseNormalizer XGBoostClassifier             0:00:27                nan    0.8528\n   52                                                  0:00:48                nan    0.8528\n   53                                                  0:00:40                nan    0.8528\n   54                                                  0:00:35                nan    0.8528\n   56    StackEnsemble                                 0:01:30             0.8696    0.8696\n   55    VotingEnsemble                                0:01:26             0.8931    0.8931\n"
        },
        {
          "output_type": "execute_result",
          "execution_count": 15,
          "data": {
            "text/plain": "{'runId': 'AutoML_c8cfe321-8de0-4ede-9550-cbd201a5f3e7',\n 'target': 'cpu-sbinstance',\n 'status': 'Completed',\n 'startTimeUtc': '2024-02-09T05:31:33.0461Z',\n 'endTimeUtc': '2024-02-09T05:47:11.311541Z',\n 'services': {},\n 'warnings': [{'source': 'JasmineService',\n   'message': 'No scores improved over last 10 iterations, so experiment stopped early. This early stopping behavior can be disabled by setting enable_early_stopping = False in AutoMLConfig for notebook/python SDK runs.'}],\n 'properties': {'num_iterations': '1000',\n  'training_type': 'TrainFull',\n  'acquisition_function': 'EI',\n  'primary_metric': 'accuracy',\n  'train_split': '0',\n  'acquisition_parameter': '0',\n  'num_cross_validation': '5',\n  'target': 'cpu-sbinstance',\n  'AMLSettingsJsonString': '{\"path\":null,\"name\":\"udacity-capstone\",\"subscription_id\":\"6b4af8be-9931-443e-90f6-c4c34a1f9737\",\"resource_group\":\"aml-quickstarts-252188\",\"workspace_name\":\"quick-starts-ws-252188\",\"region\":\"westus2\",\"compute_target\":\"cpu-sbinstance\",\"spark_service\":null,\"azure_service\":\"remote\",\"many_models\":false,\"pipeline_fetch_max_batch_size\":1,\"enable_batch_run\":true,\"enable_parallel_run\":false,\"num_procs\":null,\"enable_run_restructure\":false,\"start_auxiliary_runs_before_parent_complete\":false,\"enable_code_generation\":true,\"iterations\":1000,\"primary_metric\":\"accuracy\",\"task_type\":\"classification\",\"positive_label\":null,\"data_script\":null,\"test_size\":0.0,\"test_include_predictions_only\":false,\"validation_size\":0.0,\"n_cross_validations\":5,\"y_min\":null,\"y_max\":null,\"num_classes\":null,\"featurization\":\"auto\",\"_ignore_package_version_incompatibilities\":false,\"is_timeseries\":false,\"max_cores_per_iteration\":1,\"max_concurrent_iterations\":5,\"iteration_timeout_minutes\":null,\"mem_in_mb\":null,\"enforce_time_on_windows\":false,\"experiment_timeout_minutes\":20,\"experiment_exit_score\":null,\"partition_column_names\":null,\"whitelist_models\":null,\"blacklist_algos\":[\"TensorFlowLinearClassifier\",\"TensorFlowDNN\"],\"supported_models\":[\"XGBoostClassifier\",\"LinearSVM\",\"KNN\",\"BernoulliNaiveBayes\",\"LogisticRegression\",\"LightGBM\",\"TensorFlowDNN\",\"DecisionTree\",\"MultinomialNaiveBayes\",\"GradientBoosting\",\"TabnetClassifier\",\"AveragedPerceptronClassifier\",\"TensorFlowLinearClassifier\",\"ExtremeRandomTrees\",\"SVM\",\"SGD\",\"RandomForest\"],\"private_models\":[],\"auto_blacklist\":true,\"blacklist_samples_reached\":false,\"exclude_nan_labels\":true,\"verbosity\":20,\"_debug_log\":\"azureml_automl.log\",\"show_warnings\":false,\"model_explainability\":true,\"service_url\":null,\"sdk_url\":null,\"sdk_packages\":null,\"enable_onnx_compatible_models\":false,\"enable_split_onnx_featurizer_estimator_models\":false,\"vm_type\":\"Standard_DS3_v2\",\"telemetry_verbosity\":20,\"send_telemetry\":true,\"enable_dnn\":false,\"scenario\":\"AutoML\",\"environment_label\":null,\"save_mlflow\":false,\"enable_categorical_indicators\":false,\"force_text_dnn\":false,\"enable_feature_sweeping\":true,\"enable_early_stopping\":true,\"early_stopping_n_iters\":10,\"arguments\":null,\"dataset_id\":\"ba801acc-e5c1-4683-8904-0bfa1831591a\",\"hyperdrive_config\":null,\"validation_dataset_id\":null,\"run_source\":null,\"metrics\":null,\"enable_metric_confidence\":false,\"enable_ensembling\":true,\"enable_stack_ensembling\":true,\"ensemble_iterations\":15,\"enable_tf\":false,\"enable_subsampling\":null,\"subsample_seed\":null,\"enable_nimbusml\":false,\"enable_streaming\":false,\"force_streaming\":false,\"track_child_runs\":true,\"n_best_runs\":1,\"allowed_private_models\":[],\"label_column_name\":\"DEATH_EVENT\",\"weight_column_name\":null,\"cv_split_column_names\":null,\"enable_local_managed\":false,\"_local_managed_run_id\":null,\"cost_mode\":1,\"lag_length\":0,\"metric_operation\":\"maximize\",\"preprocess\":true}',\n  'DataPrepJsonString': '{\\\\\"training_data\\\\\": {\\\\\"datasetId\\\\\": \\\\\"ba801acc-e5c1-4683-8904-0bfa1831591a\\\\\"}, \\\\\"datasets\\\\\": 0}',\n  'EnableSubsampling': None,\n  'runTemplate': 'AutoML',\n  'azureml.runsource': 'automl',\n  'display_task_type': 'classification',\n  'dependencies_versions': '{\"azureml-dataprep-native\": \"38.0.0\", \"azureml-dataprep\": \"4.10.8\", \"azureml-dataprep-rslex\": \"2.17.12\", \"azureml-train-automl-runtime\": \"1.51.0.post2\", \"azureml-train-automl-client\": \"1.51.0.post1\", \"azureml-training-tabular\": \"1.51.0.post1\", \"azureml-automl-runtime\": \"1.51.0.post1\", \"azureml-automl-core\": \"1.51.0.post1\", \"azureml-mlflow\": \"1.51.0\", \"azureml-datadrift\": \"1.51.0\", \"azureml-pipeline\": \"1.51.0\", \"azureml-contrib-dataset\": \"1.51.0\", \"azureml-contrib-notebook\": \"1.51.0\", \"azureml-accel-models\": \"1.51.0\", \"azureml-automl-dnn-nlp\": \"1.51.0\", \"azureml-pipeline-core\": \"1.51.0\", \"azureml-responsibleai\": \"1.51.0\", \"azureml-contrib-automl-pipeline-steps\": \"1.51.0\", \"azureml-pipeline-steps\": \"1.51.0\", \"azureml-core\": \"1.51.0\", \"azureml-contrib-reinforcementlearning\": \"1.51.0\", \"azureml-contrib-server\": \"1.51.0\", \"azureml-opendatasets\": \"1.51.0\", \"azureml-contrib-services\": \"1.51.0\", \"azureml-telemetry\": \"1.51.0\", \"azureml-train-restclients-hyperdrive\": \"1.51.0\", \"azureml-interpret\": \"1.51.0\", \"azureml-train-core\": \"1.51.0\", \"azureml-tensorboard\": \"1.51.0\", \"azureml-train\": \"1.51.0\", \"azureml-contrib-pipeline-steps\": \"1.51.0\", \"azureml-explain-model\": \"1.51.0\", \"azureml-cli-common\": \"1.51.0\", \"azureml-widgets\": \"1.51.0\", \"azureml-train-automl\": \"1.51.0\", \"azureml-defaults\": \"1.51.0\", \"azureml-contrib-fairness\": \"1.51.0\", \"azureml-sdk\": \"1.51.0\", \"azureml-dataset-runtime\": \"1.51.0\", \"azureml-inference-server-http\": \"0.8.4\"}',\n  '_aml_system_scenario_identification': 'Remote.Parent',\n  'ClientType': 'SDK',\n  'PlatformVersion': 'DPV1',\n  'environment_cpu_name': 'AzureML-AutoML',\n  'environment_cpu_label': 'scikit-upgrade2',\n  'environment_gpu_name': 'AzureML-AutoML-GPU',\n  'environment_gpu_label': 'scikit-upgrade2',\n  'root_attribution': 'automl',\n  'attribution': 'AutoML',\n  'Orchestrator': 'AutoML',\n  'CancelUri': 'https://westus2.api.azureml.ms/jasmine/v1.0/subscriptions/6b4af8be-9931-443e-90f6-c4c34a1f9737/resourceGroups/aml-quickstarts-252188/providers/Microsoft.MachineLearningServices/workspaces/quick-starts-ws-252188/experimentids/b61e81a0-3bf4-4c35-a3ce-f1b7c720d571/cancel/AutoML_c8cfe321-8de0-4ede-9550-cbd201a5f3e7',\n  'ClientSdkVersion': None,\n  'snapshotId': '00000000-0000-0000-0000-000000000000',\n  'SetupRunId': 'AutoML_c8cfe321-8de0-4ede-9550-cbd201a5f3e7_setup',\n  'SetupRunContainerId': 'dcid.AutoML_c8cfe321-8de0-4ede-9550-cbd201a5f3e7_setup',\n  'FeaturizationRunJsonPath': 'featurizer_container.json',\n  'FeaturizationRunId': 'AutoML_c8cfe321-8de0-4ede-9550-cbd201a5f3e7_featurize',\n  'ProblemInfoJsonString': '{\"dataset_num_categorical\": 0, \"is_sparse\": false, \"subsampling\": false, \"has_extra_col\": true, \"dataset_classes\": 2, \"dataset_features\": 12, \"dataset_samples\": 299, \"single_frequency_class_detected\": false}',\n  'ModelExplainRunId': 'AutoML_c8cfe321-8de0-4ede-9550-cbd201a5f3e7_ModelExplain'},\n 'inputDatasets': [{'dataset': {'id': 'ba801acc-e5c1-4683-8904-0bfa1831591a'}, 'consumptionDetails': {'type': 'RunInput', 'inputName': 'training_data', 'mechanism': 'Direct'}}],\n 'outputDatasets': [{'identifier': {'savedId': 'b7f9cb2a-03eb-4a25-9409-9a412dfdac58'},\n   'outputType': 'RunOutput',\n   'outputDetails': {'outputName': 'full_training_dataset'},\n   'dataset': {\n     \"source\": [\n       \"('workspaceartifactstore', 'ExperimentRun/dcid.AutoML_c8cfe321-8de0-4ede-9550-cbd201a5f3e7/outputs/featurization/data/full_training_dataset.df.parquet')\"\n     ],\n     \"definition\": [\n       \"GetDatastoreFiles\",\n       \"ReadParquetFile\",\n       \"DropColumns\"\n     ],\n     \"registration\": {\n       \"id\": \"b7f9cb2a-03eb-4a25-9409-9a412dfdac58\",\n       \"name\": null,\n       \"version\": null,\n       \"workspace\": \"Workspace.create(name='quick-starts-ws-252188', subscription_id='6b4af8be-9931-443e-90f6-c4c34a1f9737', resource_group='aml-quickstarts-252188')\"\n     }\n   }}],\n 'logFiles': {},\n 'submittedBy': 'ODL_User 252188'}"
          },
          "metadata": {}
        }
      ],
      "execution_count": 15,
      "metadata": {
        "gather": {
          "logged": 1707457648112
        },
        "jupyter": {
          "outputs_hidden": false,
          "source_hidden": false
        },
        "nteract": {
          "transient": {
            "deleting": false
          }
        }
      }
    },
    {
      "cell_type": "markdown",
      "source": [
        "## Best Model\n",
        "\n",
        "TODO: In the cell below, get the best model from the automl experiments and display all the properties of the model.\n",
        "\n"
      ],
      "metadata": {}
    },
    {
      "cell_type": "code",
      "source": [
        "# Get best run and model\n",
        "best_run, fitted_model = remote_run.get_output()\n",
        "\n",
        "# Print the best run\n",
        "print(best_run)\n",
        "# Get all metrics of the best run\n",
        "best_run_metrics = best_run.get_metrics()\n",
        "\n",
        "# Print all metrics of the best run\n",
        "for metric_name in best_run_metrics:\n",
        "    metric = best_run_metrics[metric_name]\n",
        "    print(metric_name, metric)"
      ],
      "outputs": [
        {
          "output_type": "stream",
          "name": "stderr",
          "text": "WARNING:root:The version of the SDK does not match the version the model was trained on.\nWARNING:root:The consistency in the result may not be guaranteed.\nWARNING:root:Package:azureml-automl-core, training version:1.52.0.post1, current version:1.51.0.post1\nPackage:azureml-automl-runtime, training version:1.52.0.post1, current version:1.51.0.post1\nPackage:azureml-core, training version:1.52.0, current version:1.51.0\nPackage:azureml-dataprep, training version:4.11.4, current version:4.10.8\nPackage:azureml-dataprep-rslex, training version:2.18.4, current version:2.17.12\nPackage:azureml-dataset-runtime, training version:1.52.0, current version:1.51.0\nPackage:azureml-defaults, training version:1.52.0, current version:1.51.0\nPackage:azureml-interpret, training version:1.52.0, current version:1.51.0\nPackage:azureml-mlflow, training version:1.52.0, current version:1.51.0\nPackage:azureml-pipeline-core, training version:1.52.0, current version:1.51.0\nPackage:azureml-responsibleai, training version:1.52.0, current version:1.51.0\nPackage:azureml-telemetry, training version:1.52.0, current version:1.51.0\nPackage:azureml-train-automl-client, training version:1.52.0, current version:1.51.0.post1\nPackage:azureml-train-automl-runtime, training version:1.52.0, current version:1.51.0.post2\nPackage:azureml-train-core, training version:1.52.0, current version:1.51.0\nPackage:azureml-train-restclients-hyperdrive, training version:1.52.0, current version:1.51.0\nPackage:azureml-training-tabular, training version:1.52.0, current version:1.51.0.post1\nWARNING:root:Please ensure the version of your local conda dependencies match the version on which your model was trained in order to properly retrieve your model.\n"
        },
        {
          "output_type": "stream",
          "name": "stdout",
          "text": "Run(Experiment: udacity-capstone,\nId: AutoML_c8cfe321-8de0-4ede-9550-cbd201a5f3e7_55,\nType: azureml.scriptrun,\nStatus: Completed)\nAUC_macro 0.9192687338501292\nAUC_weighted 0.9192687338501292\nlog_loss 0.363852781580171\nf1_score_micro 0.8930508474576271\naverage_precision_score_weighted 0.9284507367470065\nprecision_score_macro 0.897721055460622\naccuracy 0.8930508474576271\nnorm_macro_recall 0.730952380952381\nf1_score_macro 0.8701440289333456\nprecision_score_micro 0.8930508474576271\nrecall_score_weighted 0.8930508474576271\nf1_score_weighted 0.8898830531029361\naverage_precision_score_micro 0.9225193776148423\nrecall_score_micro 0.8930508474576271\nAUC_micro 0.9197958600657538\nweighted_accuracy 0.9115054180922364\nprecision_score_weighted 0.9065511374387738\nmatthews_correlation 0.7607915062466252\naverage_precision_score_macro 0.9026959391883228\nrecall_score_macro 0.8654761904761905\nconfusion_matrix aml://artifactId/ExperimentRun/dcid.AutoML_c8cfe321-8de0-4ede-9550-cbd201a5f3e7_55/confusion_matrix\nbalanced_accuracy 0.8654761904761905\naccuracy_table aml://artifactId/ExperimentRun/dcid.AutoML_c8cfe321-8de0-4ede-9550-cbd201a5f3e7_55/accuracy_table\n"
        }
      ],
      "execution_count": 17,
      "metadata": {
        "gather": {
          "logged": 1707457950897
        },
        "jupyter": {
          "outputs_hidden": false,
          "source_hidden": false
        },
        "nteract": {
          "transient": {
            "deleting": false
          }
        }
      }
    },
    {
      "cell_type": "code",
      "source": [
        "#TODO: Save the best model\n",
        "#TODO: Save the best model\n",
        "best_model = best_run.register_model(model_path='outputs/model.pkl', model_name='automl_best_model_capstone',\n",
        "                        properties={'Accuracy': best_run_metrics['accuracy']})\n",
        "\n",
        "print(best_model)"
      ],
      "outputs": [
        {
          "output_type": "stream",
          "name": "stdout",
          "text": "Model(workspace=Workspace.create(name='quick-starts-ws-252188', subscription_id='6b4af8be-9931-443e-90f6-c4c34a1f9737', resource_group='aml-quickstarts-252188'), name=automl_best_model_capstone, id=automl_best_model_capstone:1, version=1, tags={}, properties={'Accuracy': '0.8930508474576271'})\n"
        }
      ],
      "execution_count": 18,
      "metadata": {
        "gather": {
          "logged": 1707458138877
        },
        "jupyter": {
          "outputs_hidden": false,
          "source_hidden": false
        },
        "nteract": {
          "transient": {
            "deleting": false
          }
        }
      }
    },
    {
      "cell_type": "markdown",
      "source": [
        "## Model Deployment\n",
        "\n",
        "Remember you have to deploy only one of the two models you trained but you still need to register both the models. Perform the steps in the rest of this notebook only if you wish to deploy this model.\n",
        "\n",
        "TODO: In the cell below, register the model, create an inference config and deploy the model as a web service."
      ],
      "metadata": {}
    },
    {
      "cell_type": "code",
      "source": [
        "import os\n",
        "os.getcwd()"
      ],
      "outputs": [
        {
          "output_type": "execute_result",
          "execution_count": 21,
          "data": {
            "text/plain": "'/mnt/batch/tasks/shared/LS_root/mounts/clusters/cpu-sbinstance/code/Users/odl_user_252188'"
          },
          "metadata": {}
        }
      ],
      "execution_count": 21,
      "metadata": {
        "jupyter": {
          "source_hidden": false,
          "outputs_hidden": false
        },
        "nteract": {
          "transient": {
            "deleting": false
          }
        },
        "gather": {
          "logged": 1707461720881
        }
      }
    },
    {
      "cell_type": "code",
      "source": [
        "# Download scoring file \n",
        "best_run.download_file('outputs/scoring_file_v_1_0_0.py', 'scoreScript.py')\n",
        "\n",
        "# Download environment file\n",
        "best_run.download_file('outputs/conda_env_v_1_0_0.yml', 'envFile.yml')"
      ],
      "outputs": [],
      "execution_count": 20,
      "metadata": {
        "gather": {
          "logged": 1707461601655
        },
        "jupyter": {
          "outputs_hidden": false,
          "source_hidden": false
        },
        "nteract": {
          "transient": {
            "deleting": false
          }
        }
      }
    },
    {
      "cell_type": "markdown",
      "source": [
        "TODO: In the cell below, send a request to the web service you deployed to test it."
      ],
      "metadata": {
        "collapsed": true,
        "gather": {
          "logged": 1598431657736
        },
        "jupyter": {
          "outputs_hidden": false,
          "source_hidden": false
        },
        "nteract": {
          "transient": {
            "deleting": false
          }
        }
      }
    },
    {
      "cell_type": "code",
      "source": [
        "from azureml.core.environment import Environment\n",
        "from azureml.core.model import InferenceConfig\n",
        "\n",
        "inference_config = InferenceConfig(entry_script='scoreScript.py',\n",
        "                                    environment=best_run.get_environment())\n",
        "\n",
        "# deploy\n",
        "from azureml.core.webservice import AciWebservice\n",
        "\n",
        "deployment_config = AciWebservice.deploy_configuration(cpu_cores = 1, memory_gb = 1)\n",
        "service = Model.deploy(ws, \"myservice\", [best_model], inference_config, deployment_config)\n",
        "service.wait_for_deployment(show_output = True)\n",
        "print(service.state)\n",
        "\n",
        "print(service.scoring_uri)\n",
        "\n",
        "print(service.swagger_uri)"
      ],
      "outputs": [
        {
          "output_type": "stream",
          "name": "stdout",
          "text": "Tips: You can try get_logs(): https://aka.ms/debugimage#dockerlog or local deployment: https://aka.ms/debugimage#debug-locally to debug if deployment takes longer than 10 minutes.\nRunning\n2024-02-09 06:56:57+00:00 Creating Container Registry if not exists.\n2024-02-09 06:56:57+00:00 Registering the environment.\n2024-02-09 06:56:58+00:00 Use the existing image.\n2024-02-09 06:56:58+00:00 Submitting deployment to compute.\n2024-02-09 06:57:05+00:00 Checking the status of deployment myservice..\n2024-02-09 06:59:09+00:00 Checking the status of inference endpoint myservice.\nSucceeded\nACI service creation operation finished, operation \"Succeeded\"\nHealthy\nhttp://7fec2b12-077a-4343-828a-5bdc5f9b720e.westus2.azurecontainer.io/score\nhttp://7fec2b12-077a-4343-828a-5bdc5f9b720e.westus2.azurecontainer.io/swagger.json\n"
        }
      ],
      "execution_count": 22,
      "metadata": {
        "gather": {
          "logged": 1707461988635
        },
        "jupyter": {
          "outputs_hidden": false,
          "source_hidden": false
        },
        "nteract": {
          "transient": {
            "deleting": false
          }
        }
      }
    },
    {
      "cell_type": "markdown",
      "source": [
        "TODO: In the cell below, print the logs of the web service and delete the service"
      ],
      "metadata": {
        "collapsed": true,
        "gather": {
          "logged": 1598432765711
        },
        "jupyter": {
          "outputs_hidden": false,
          "source_hidden": false
        },
        "nteract": {
          "transient": {
            "deleting": false
          }
        }
      }
    },
    {
      "cell_type": "code",
      "source": [
        "import json\n",
        "\n",
        "#Import test data\n",
        "test_df = df.sample(5) # data is the pandas dataframe of the original data\n",
        "label_df = test_df.pop('DEATH_EVENT')\n",
        "\n",
        "test_sample = json.dumps({'data': test_df.to_dict(orient='records')})\n",
        "\n",
        "print(test_sample)"
      ],
      "outputs": [
        {
          "output_type": "stream",
          "name": "stdout",
          "text": "{\"data\": [{\"age\": 65.0, \"anaemia\": 1, \"creatinine_phosphokinase\": 160, \"diabetes\": 1, \"ejection_fraction\": 20, \"high_blood_pressure\": 0, \"platelets\": 327000.0, \"serum_creatinine\": 2.7, \"serum_sodium\": 116, \"sex\": 0, \"smoking\": 0, \"time\": 8}, {\"age\": 50.0, \"anaemia\": 0, \"creatinine_phosphokinase\": 369, \"diabetes\": 1, \"ejection_fraction\": 25, \"high_blood_pressure\": 0, \"platelets\": 252000.0, \"serum_creatinine\": 1.6, \"serum_sodium\": 136, \"sex\": 1, \"smoking\": 0, \"time\": 90}, {\"age\": 50.0, \"anaemia\": 0, \"creatinine_phosphokinase\": 124, \"diabetes\": 1, \"ejection_fraction\": 30, \"high_blood_pressure\": 1, \"platelets\": 153000.0, \"serum_creatinine\": 1.2, \"serum_sodium\": 136, \"sex\": 0, \"smoking\": 1, \"time\": 32}, {\"age\": 55.0, \"anaemia\": 0, \"creatinine_phosphokinase\": 47, \"diabetes\": 0, \"ejection_fraction\": 35, \"high_blood_pressure\": 1, \"platelets\": 173000.0, \"serum_creatinine\": 1.1, \"serum_sodium\": 137, \"sex\": 1, \"smoking\": 0, \"time\": 79}, {\"age\": 55.0, \"anaemia\": 0, \"creatinine_phosphokinase\": 7861, \"diabetes\": 0, \"ejection_fraction\": 38, \"high_blood_pressure\": 0, \"platelets\": 263358.03, \"serum_creatinine\": 1.1, \"serum_sodium\": 136, \"sex\": 1, \"smoking\": 0, \"time\": 6}]}\n"
        }
      ],
      "execution_count": 24,
      "metadata": {
        "jupyter": {
          "outputs_hidden": false,
          "source_hidden": false
        },
        "nteract": {
          "transient": {
            "deleting": false
          }
        },
        "gather": {
          "logged": 1707462088231
        }
      }
    },
    {
      "cell_type": "code",
      "source": [
        "import requests # Used for http post request\n",
        "\n",
        "# Set the content type\n",
        "headers = {'Content-type': 'application/json'}\n",
        "\n",
        "\n",
        "response = requests.post(service.scoring_uri, test_sample, headers=headers)"
      ],
      "outputs": [],
      "execution_count": 25,
      "metadata": {
        "jupyter": {
          "source_hidden": false,
          "outputs_hidden": false
        },
        "nteract": {
          "transient": {
            "deleting": false
          }
        },
        "gather": {
          "logged": 1707462124323
        }
      }
    },
    {
      "cell_type": "code",
      "source": [
        "print(response.text)"
      ],
      "outputs": [
        {
          "output_type": "stream",
          "name": "stdout",
          "text": "\"{\\\"result\\\": [1, 0, 1, 0, 1]}\"\n"
        }
      ],
      "execution_count": 26,
      "metadata": {
        "jupyter": {
          "source_hidden": false,
          "outputs_hidden": false
        },
        "nteract": {
          "transient": {
            "deleting": false
          }
        },
        "gather": {
          "logged": 1707462139110
        }
      }
    },
    {
      "cell_type": "code",
      "source": [
        "print(service.get_logs())"
      ],
      "outputs": [
        {
          "output_type": "stream",
          "name": "stdout",
          "text": "2024-02-09T06:59:01,660854300+00:00 - rsyslog/run \n2024-02-09T06:59:01,685283700+00:00 - gunicorn/run \n2024-02-09T06:59:01,692471600+00:00 | gunicorn/run | \n2024-02-09T06:59:01,694450400+00:00 | gunicorn/run | ###############################################\n2024-02-09T06:59:01,695114800+00:00 - nginx/run \n2024-02-09T06:59:01,696293600+00:00 | gunicorn/run | AzureML Container Runtime Information\n2024-02-09T06:59:01,705299100+00:00 | gunicorn/run | ###############################################\n2024-02-09T06:59:01,709339900+00:00 | gunicorn/run | \n2024-02-09T06:59:01,725235800+00:00 | gunicorn/run | \n2024-02-09T06:59:01,737299700+00:00 | gunicorn/run | AzureML image information: openmpi4.1.0-ubuntu20.04, Materializaton Build:20230628.v2\n2024-02-09T06:59:01,740571000+00:00 | gunicorn/run | \n2024-02-09T06:59:01,742645900+00:00 | gunicorn/run | \n2024-02-09T06:59:01,752472300+00:00 | gunicorn/run | PATH environment variable: /azureml-envs/azureml-automl/bin:/opt/miniconda/bin:/usr/local/sbin:/usr/local/bin:/usr/sbin:/usr/bin:/sbin:/bin\n2024-02-09T06:59:01,760833400+00:00 | gunicorn/run | PYTHONPATH environment variable: \n2024-02-09T06:59:01,765122800+00:00 | gunicorn/run | \n2024-02-09T06:59:03,004167200+00:00 | gunicorn/run | CONDAPATH environment variable: /opt/miniconda\n\n# conda environments:\n#\n                         /azureml-envs/azureml-automl\nbase                     /opt/miniconda\n\n2024-02-09T06:59:04,712438543+00:00 | gunicorn/run | \n2024-02-09T06:59:04,718691828+00:00 | gunicorn/run | Pip Dependencies (before dynamic installation)\n\nadal==1.2.7\napplicationinsights==0.11.10\narch==5.3.1\nargcomplete==2.1.2\nargon2-cffi==21.3.0\nargon2-cffi-bindings==21.2.0\nasttokens==2.2.1\nattrs==23.1.0\nazure-common==1.1.28\nazure-core==1.27.1\nazure-graphrbac==0.61.1\nazure-identity==1.13.0\nazure-mgmt-authorization==3.0.0\nazure-mgmt-containerregistry==10.1.0\nazure-mgmt-core==1.4.0\nazure-mgmt-keyvault==10.2.2\nazure-mgmt-resource==22.0.0\nazure-mgmt-storage==21.0.0\nazure-storage-blob==12.13.0\nazure-storage-queue==12.6.0\nazureml-automl-core==1.52.0.post1\nazureml-automl-runtime==1.52.0.post1\nazureml-core==1.52.0\nazureml-dataprep==4.11.4\nazureml-dataprep-native==38.0.0\nazureml-dataprep-rslex==2.18.4\nazureml-dataset-runtime==1.52.0\nazureml-defaults==1.52.0\nazureml-inference-server-http==0.8.4\nazureml-interpret==1.52.0\nazureml-mlflow==1.52.0\nazureml-pipeline-core==1.52.0\nazureml-responsibleai==1.52.0\nazureml-telemetry==1.52.0\nazureml-train-automl-client==1.52.0\nazureml-train-automl-runtime==1.52.0\nazureml-train-core==1.52.0\nazureml-train-restclients-hyperdrive==1.52.0\nazureml-training-tabular==1.52.0\nbackcall==0.2.0\nbackports.tempfile==1.0\nbackports.weakref==1.0.post1\nbcrypt==4.0.1\nbeautifulsoup4==4.12.2\nbleach==6.0.0\nbokeh==2.4.3\nboto==2.49.0\nboto3==1.20.19\nbotocore==1.23.19\nBrotli @ file:///home/conda/feedstock_root/build_artifacts/brotli-split_1687884021435/work\ncachetools==5.3.1\ncertifi==2023.5.7\ncffi @ file:///home/conda/feedstock_root/build_artifacts/cffi_1671179356964/work\ncharset-normalizer @ file:///home/conda/feedstock_root/build_artifacts/charset-normalizer_1678108872112/work\nclick==8.1.4\ncloudpickle @ file:///home/conda/feedstock_root/build_artifacts/cloudpickle_1598400192773/work\ncmdstanpy==0.9.5\ncontextlib2==21.6.0\ncontourpy==1.1.0\nconvertdate @ file:///home/conda/feedstock_root/build_artifacts/convertdate_1642883757836/work\ncryptography==41.0.0\ncycler==0.11.0\nCython==0.29.17\ndask==2023.2.0\ndatabricks-cli==0.17.7\ndataclasses==0.6\ndebugpy==1.6.7\ndecorator==5.1.1\ndefusedxml==0.7.1\ndice-ml==0.9\ndill==0.3.6\ndistributed==2023.2.0\ndistro==1.8.0\ndocker==6.1.3\ndotnetcore2==3.1.23\neconml==0.14.1\nentrypoints==0.4\nephem==4.1.4\nerroranalysis==0.4.4\nexecuting==1.2.0\nfairlearn==0.8.0\nfastjsonschema==2.17.1\nfbprophet==0.7.1\nfire==0.5.0\nFlask==2.2.5\nFlask-Cors==3.0.10\nflatbuffers==23.5.26\nfonttools==4.40.0\nfsspec==2023.6.0\nfusepy==3.0.1\ngensim==3.8.3\ngitdb==4.0.10\nGitPython==3.1.31\ngoogle-api-core==2.11.1\ngoogle-auth==2.21.0\ngoogleapis-common-protos==1.59.1\ngunicorn==20.1.0\nh5py==3.9.0\nholidays @ file:///home/conda/feedstock_root/build_artifacts/holidays_1595448845196/work\nhumanfriendly==10.0\nidna @ file:///home/conda/feedstock_root/build_artifacts/idna_1663625384323/work\nimportlib-metadata==6.8.0\nimportlib-resources==5.13.0\ninference-schema==1.5.1\ninterpret-community==0.29.0\ninterpret-core==0.3.2\nipykernel==6.8.0\nipython==8.12.2\nipython-genutils==0.2.0\nisodate==0.6.1\nitsdangerous==2.1.2\njedi==0.18.2\njeepney==0.8.0\nJinja2==3.1.2\njmespath==0.10.0\njoblib @ file:///home/conda/feedstock_root/build_artifacts/joblib_1663332044897/work\njsonpickle==3.0.1\njsonschema==4.18.0\njsonschema-specifications==2023.6.1\njupyter_client==7.4.9\njupyter_core==5.3.1\njupyterlab-pygments==0.2.2\nkeras2onnx==1.6.0\nkiwisolver==1.4.4\nknack==0.10.1\nkorean-lunar-calendar @ file:///home/conda/feedstock_root/build_artifacts/korean_lunar_calendar_1663341251025/work\nlightgbm==3.2.1\nllvmlite==0.38.1\nlocket==1.0.0\nLunarCalendar==0.0.9\nMarkupSafe==2.1.2\nmatplotlib==3.7.2\nmatplotlib-inline==0.1.6\nmistune==3.0.1\nml-wrappers==0.4.11\nmlflow-skinny==2.4.1\nmltable==1.4.1\nmsal==1.22.0\nmsal-extensions==1.0.0\nmsgpack==1.0.5\nmsrest==0.7.1\nmsrestazure==0.6.4\nnbclient==0.8.0\nnbconvert==7.6.0\nnbformat==5.9.0\nndg-httpsclient==0.5.1\nnest-asyncio==1.5.6\nnetworkx==2.5\nnotebook==6.4.9\nnumba==0.55.2\nnumpy==1.22.3\noauthlib==3.2.2\nonnx==1.13.1\nonnxconverter-common==1.6.0\nonnxmltools==1.4.1\nonnxruntime==1.11.1\nopencensus==0.11.2\nopencensus-context==0.1.3\nopencensus-ext-azure==1.1.9\npackaging==23.0\npandas==1.1.5\npandocfilters==1.5.0\nparamiko==3.2.0\nparso==0.8.3\npartd==1.4.0\npathspec==0.11.1\npatsy==0.5.3\npexpect==4.8.0\npickleshare==0.7.5\nPillow==10.0.0\npkginfo==1.9.6\npkgutil_resolve_name==1.3.10\nplatformdirs @ file:///home/conda/feedstock_root/build_artifacts/platformdirs_1688739404342/work\npmdarima==1.8.0\npooch @ file:///home/conda/feedstock_root/build_artifacts/pooch_1679580333621/work\nportalocker==2.7.0\nprometheus-client==0.17.0\nprompt-toolkit==3.0.39\nproperty-cached==1.6.4\nprotobuf==3.20.3\npsutil @ file:///home/conda/feedstock_root/build_artifacts/psutil_1681775007745/work\nptyprocess==0.7.0\npure-eval==0.2.2\npy-cpuinfo==5.0.0\npyarrow==9.0.0\npyasn1==0.5.0\npyasn1-modules==0.3.0\npycparser @ file:///home/conda/feedstock_root/build_artifacts/pycparser_1636257122734/work\npydantic==1.10.11\nPygments==2.15.1\nPyJWT==2.7.0\nPyMeeus @ file:///home/conda/feedstock_root/build_artifacts/pymeeus_1670868433998/work\nPyNaCl==1.5.0\npyOpenSSL @ file:///home/conda/feedstock_root/build_artifacts/pyopenssl_1685514481738/work\npyparsing==3.0.9\nPySocks @ file:///home/conda/feedstock_root/build_artifacts/pysocks_1661604839144/work\npystan==2.19.1.1\npython-dateutil @ file:///home/conda/feedstock_root/build_artifacts/python-dateutil_1626286286081/work\npytz @ file:///home/conda/feedstock_root/build_artifacts/pytz_1680088766131/work\nPyYAML==6.0\npyzmq==25.1.0\nraiutils==0.4.0\nreferencing==0.29.1\nrequests @ file:///home/conda/feedstock_root/build_artifacts/requests_1684774241324/work\nrequests-oauthlib==1.3.1\nresponsibleai==0.28.0\nrpds-py==0.8.8\nrsa==4.9\ns3transfer==0.5.2\nscikit-learn==0.22.1\nscipy==1.5.3\nSecretStorage==3.3.3\nsemver==2.13.0\nSend2Trash==1.8.2\nsetuptools-git==1.2\nshap==0.41.0\nsix @ file:///home/conda/feedstock_root/build_artifacts/six_1620240208055/work\nskl2onnx==1.4.9\nsklearn-pandas==1.7.0\nslicer==0.0.7\nsmart-open==1.9.0\nsmmap==5.0.0\nsortedcontainers==2.4.0\nsoupsieve==2.4.1\nsparse==0.14.0\nsqlparse==0.4.4\nstack-data==0.6.2\nstatsmodels==0.11.1\ntabulate==0.9.0\ntblib==2.0.0\ntermcolor==2.3.0\nterminado==0.17.1\ntinycss2==1.2.1\ntoolz==0.12.0\ntornado==6.3.2\ntqdm==4.65.0\ntraitlets==5.9.0\ntyping_extensions @ file:///home/conda/feedstock_root/build_artifacts/typing_extensions_1688315532570/work\nurllib3==1.26.16\nwcwidth==0.2.6\nwebencodings==0.5.1\nwebsocket-client==1.6.1\nWerkzeug==2.3.6\nwrapt==1.12.1\nxgboost==1.3.3\nzict==3.0.0\nzipp==3.15.0\n\n2024-02-09T06:59:07,582491876+00:00 | gunicorn/run | \n2024-02-09T06:59:07,586113167+00:00 | gunicorn/run | ###############################################\n2024-02-09T06:59:07,594312847+00:00 | gunicorn/run | Checking if the Python package azureml-inference-server-http is installed\n2024-02-09T06:59:07,597797238+00:00 | gunicorn/run | ###############################################\n2024-02-09T06:59:07,599920133+00:00 | gunicorn/run | \n2024-02-09T06:59:12,713891080+00:00 | gunicorn/run | \n2024-02-09T06:59:12,716191765+00:00 | gunicorn/run | ###############################################\n2024-02-09T06:59:12,718260551+00:00 | gunicorn/run | AzureML Inference Server\n2024-02-09T06:59:12,730299470+00:00 | gunicorn/run | ###############################################\n2024-02-09T06:59:12,733854246+00:00 | gunicorn/run | \n2024-02-09T06:59:17,342146783+00:00 | gunicorn/run | Starting AzureML Inference Server HTTP.\n2024-02-09 06:59:17,810 I [75] azmlinfsrv - Loaded logging config from /azureml-envs/azureml-automl/lib/python3.8/site-packages/azureml_inference_server_http/logging.json\n2024-02-09 06:59:18,264 I [75] gunicorn.error - Starting gunicorn 20.1.0\n2024-02-09 06:59:18,266 I [75] gunicorn.error - Listening at: http://0.0.0.0:31311 (75)\n2024-02-09 06:59:18,266 I [75] gunicorn.error - Using worker: sync\n2024-02-09 06:59:18,276 I [165] gunicorn.error - Booting worker with pid: 165\n\nAzure ML Inferencing HTTP server v0.8.4\n\n\nServer Settings\n---------------\nEntry Script Name: /var/azureml-app/main.py\nModel Directory: /var/azureml-app/azureml-models/automl_best_model_capstone/1\nConfig File: None\n/azureml-envs/azureml-automl/lib/python3.8/site-packages/azureml_inference_server_http/server/config.py:51: FutureWarning: aliases are no longer used by BaseSettings to define which environment variables to read. Instead use the \"env\" field setting. See https://pydantic-docs.helpmanual.io/usage/settings/#environment-variable-names\nWorker Count: 1\nWorker Timeout (seconds): 300\n  class AMLInferenceServerConfig(pydantic.BaseSettings):\nServer Port: 31311\nHealth Port: 31311\nApplication Insights Enabled: false\nApplication Insights Key: None\nInferencing HTTP server version: azmlinfsrv/0.8.4\nCORS for the specified origins: None\nCreate dedicated endpoint for health: None\n\n\nServer Routes\n---------------\nLiveness Probe: GET   127.0.0.1:31311/\nScore:          POST  127.0.0.1:31311/score\n\n2024-02-09 06:59:19,406 I [165] azmlinfsrv - AML_FLASK_ONE_COMPATIBILITY is set. Patched Flask to ensure compatibility with Flask 1.\nInitializing logger\n2024-02-09 06:59:19,411 I [165] azmlinfsrv - Starting up app insights client\n2024-02-09 06:59:20,629 I [165] azmlinfsrv.user_script - Found driver script at /var/azureml-app/main.py and the score script at /var/azureml-app/scoreScript.py\n2024-02-09 06:59:20,629 I [165] azmlinfsrv.user_script - run() is decorated with @input_schema. Server will invoke it with the following arguments: data, method.\n2024-02-09 06:59:20,629 I [165] azmlinfsrv.user_script - Invoking user's init function\nERROR:fbprophet.plot:Importing plotly failed. Interactive plots will not work.\n2024-02-09 06:59:35,267 I [165] azmlinfsrv.user_script - Users's init has completed successfully\n2024-02-09 06:59:35,270 I [165] azmlinfsrv.swagger - Swaggers are prepared for the following versions: [2, 3, 3.1].\n2024-02-09 06:59:35,273 I [165] azmlinfsrv - Scoring timeout is set to 60000\n2024-02-09 06:59:35,285 W [165] azmlinfsrv - x-ms-request-id header has been deprecated and will be removed from future versions of the server. Please use x-ms-client-request-id.\n2024-02-09 06:59:35,290 I [165] gunicorn.access - 127.0.0.1 - - [09/Feb/2024:06:59:35 +0000] \"GET / HTTP/1.0\" 200 7 \"-\" \"Go-http-client/1.1\"\n2024-02-09 06:59:35,292 W [165] azmlinfsrv - x-ms-request-id header has been deprecated and will be removed from future versions of the server. Please use x-ms-client-request-id.\n2024-02-09 06:59:35,294 I [165] gunicorn.access - 127.0.0.1 - - [09/Feb/2024:06:59:35 +0000] \"GET / HTTP/1.0\" 200 7 \"-\" \"Go-http-client/1.1\"\n2024-02-09 06:59:35,296 W [165] azmlinfsrv - x-ms-request-id header has been deprecated and will be removed from future versions of the server. Please use x-ms-client-request-id.\n2024-02-09 06:59:35,297 I [165] gunicorn.access - 127.0.0.1 - - [09/Feb/2024:06:59:35 +0000] \"GET / HTTP/1.0\" 200 7 \"-\" \"Go-http-client/1.1\"\n2024-02-09 06:59:36,155 I [165] gunicorn.access - 127.0.0.1 - - [09/Feb/2024:06:59:36 +0000] \"GET / HTTP/1.0\" 200 7 \"-\" \"curl/7.58.0\"\n2024-02-09 06:59:46,556 W [165] azmlinfsrv - x-ms-request-id header has been deprecated and will be removed from future versions of the server. Please use x-ms-client-request-id.\n2024-02-09 06:59:46,557 I [165] gunicorn.access - 127.0.0.1 - - [09/Feb/2024:06:59:46 +0000] \"GET / HTTP/1.0\" 200 7 \"-\" \"Go-http-client/1.1\"\n2024-02-09 06:59:46,564 W [165] azmlinfsrv - x-ms-request-id header has been deprecated and will be removed from future versions of the server. Please use x-ms-client-request-id.\n2024-02-09 06:59:46,565 I [165] azmlinfsrv - GET /swagger.json 200 0.542ms 3526\n2024-02-09 06:59:46,565 I [165] gunicorn.access - 127.0.0.1 - - [09/Feb/2024:06:59:46 +0000] \"GET /swagger.json HTTP/1.0\" 200 3526 \"-\" \"Go-http-client/1.1\"\n2024-02-09 06:59:48,138 W [165] azmlinfsrv - x-ms-request-id header has been deprecated and will be removed from future versions of the server. Please use x-ms-client-request-id.\n2024-02-09 06:59:48,140 I [165] gunicorn.access - 127.0.0.1 - - [09/Feb/2024:06:59:48 +0000] \"GET / HTTP/1.0\" 200 7 \"-\" \"Go-http-client/1.1\"\n2024-02-09 06:59:48,148 W [165] azmlinfsrv - x-ms-request-id header has been deprecated and will be removed from future versions of the server. Please use x-ms-client-request-id.\n2024-02-09 06:59:48,153 I [165] azmlinfsrv - GET /swagger.json 200 5.485ms 3526\n2024-02-09 06:59:48,154 I [165] gunicorn.access - 127.0.0.1 - - [09/Feb/2024:06:59:48 +0000] \"GET /swagger.json HTTP/1.0\" 200 3526 \"-\" \"Go-http-client/1.1\"\n2024-02-09 07:02:03,812 W [165] azmlinfsrv - x-ms-request-id header has been deprecated and will be removed from future versions of the server. Please use x-ms-client-request-id.\n2024-02-09 07:02:04,129 I [165] azmlinfsrv - POST /score 200 317.677ms 31\n2024-02-09 07:02:04,131 I [165] gunicorn.access - 127.0.0.1 - - [09/Feb/2024:07:02:04 +0000] \"POST /score HTTP/1.0\" 200 31 \"-\" \"python-requests/2.31.0\"\n\n"
        }
      ],
      "execution_count": 27,
      "metadata": {
        "jupyter": {
          "source_hidden": false,
          "outputs_hidden": false
        },
        "nteract": {
          "transient": {
            "deleting": false
          }
        },
        "gather": {
          "logged": 1707462170832
        }
      }
    },
    {
      "cell_type": "code",
      "source": [
        "service.delete()"
      ],
      "outputs": [],
      "execution_count": 28,
      "metadata": {
        "jupyter": {
          "source_hidden": false,
          "outputs_hidden": false
        },
        "nteract": {
          "transient": {
            "deleting": false
          }
        },
        "gather": {
          "logged": 1707462849596
        }
      }
    },
    {
      "cell_type": "markdown",
      "source": [
        "**Submission Checklist**\n",
        "- I have registered the model.\n",
        "- I have deployed the model with the best accuracy as a webservice.\n",
        "- I have tested the webservice by sending a request to the model endpoint.\n",
        "- I have deleted the webservice and shutdown all the computes that I have used.\n",
        "- I have taken a screenshot showing the model endpoint as active.\n",
        "- The project includes a file containing the environment details.\n"
      ],
      "metadata": {}
    },
    {
      "cell_type": "markdown",
      "source": [],
      "metadata": {}
    }
  ],
  "metadata": {
    "kernel_info": {
      "name": "python38-azureml"
    },
    "kernelspec": {
      "name": "python38-azureml",
      "language": "python",
      "display_name": "Python 3.8 - AzureML"
    },
    "language_info": {
      "name": "python",
      "version": "3.8.5",
      "mimetype": "text/x-python",
      "codemirror_mode": {
        "name": "ipython",
        "version": 3
      },
      "pygments_lexer": "ipython3",
      "nbconvert_exporter": "python",
      "file_extension": ".py"
    },
    "nteract": {
      "version": "nteract-front-end@1.0.0"
    },
    "microsoft": {
      "host": {
        "AzureML": {
          "notebookHasBeenCompleted": true
        }
      },
      "ms_spell_check": {
        "ms_spell_check_language": "en"
      }
    }
  },
  "nbformat": 4,
  "nbformat_minor": 2
}